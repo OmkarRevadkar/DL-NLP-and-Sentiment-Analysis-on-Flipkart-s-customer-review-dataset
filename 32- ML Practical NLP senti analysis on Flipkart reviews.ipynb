{
 "cells": [
  {
   "cell_type": "code",
   "execution_count": 1,
   "id": "c93c41e8",
   "metadata": {},
   "outputs": [],
   "source": [
    "# Problem statement - To perform NLP & also conduct the sentiment analysis on Flipkart's product review dataset."
   ]
  },
  {
   "cell_type": "code",
   "execution_count": 2,
   "id": "814f570c",
   "metadata": {},
   "outputs": [],
   "source": [
    "# Importing the necessary libraries"
   ]
  },
  {
   "cell_type": "code",
   "execution_count": 3,
   "id": "34e182bd",
   "metadata": {},
   "outputs": [],
   "source": [
    "import numpy as np\n",
    "import pandas as pd\n",
    "import matplotlib.pyplot as plt\n",
    "import string"
   ]
  },
  {
   "cell_type": "code",
   "execution_count": 4,
   "id": "323b4d9e",
   "metadata": {},
   "outputs": [],
   "source": [
    "flipk = pd.read_csv('flipkart.csv')                                   # read the csv file"
   ]
  },
  {
   "cell_type": "code",
   "execution_count": 5,
   "id": "235e0455",
   "metadata": {
    "scrolled": true
   },
   "outputs": [
    {
     "data": {
      "text/html": [
       "<div>\n",
       "<style scoped>\n",
       "    .dataframe tbody tr th:only-of-type {\n",
       "        vertical-align: middle;\n",
       "    }\n",
       "\n",
       "    .dataframe tbody tr th {\n",
       "        vertical-align: top;\n",
       "    }\n",
       "\n",
       "    .dataframe thead th {\n",
       "        text-align: right;\n",
       "    }\n",
       "</style>\n",
       "<table border=\"1\" class=\"dataframe\">\n",
       "  <thead>\n",
       "    <tr style=\"text-align: right;\">\n",
       "      <th></th>\n",
       "      <th>Unnamed: 0</th>\n",
       "      <th>Product_name</th>\n",
       "      <th>Review</th>\n",
       "      <th>Rating</th>\n",
       "    </tr>\n",
       "  </thead>\n",
       "  <tbody>\n",
       "    <tr>\n",
       "      <th>0</th>\n",
       "      <td>0</td>\n",
       "      <td>Lenovo Ideapad Gaming 3 Ryzen 5 Hexa Core 5600...</td>\n",
       "      <td>Best under 60k Great performanceI got it for a...</td>\n",
       "      <td>5</td>\n",
       "    </tr>\n",
       "    <tr>\n",
       "      <th>1</th>\n",
       "      <td>1</td>\n",
       "      <td>Lenovo Ideapad Gaming 3 Ryzen 5 Hexa Core 5600...</td>\n",
       "      <td>Good perfomence...</td>\n",
       "      <td>5</td>\n",
       "    </tr>\n",
       "    <tr>\n",
       "      <th>2</th>\n",
       "      <td>2</td>\n",
       "      <td>Lenovo Ideapad Gaming 3 Ryzen 5 Hexa Core 5600...</td>\n",
       "      <td>Great performance but usually it has also that...</td>\n",
       "      <td>5</td>\n",
       "    </tr>\n",
       "    <tr>\n",
       "      <th>3</th>\n",
       "      <td>3</td>\n",
       "      <td>DELL Inspiron Athlon Dual Core 3050U - (4 GB/2...</td>\n",
       "      <td>My wife is so happy and best product 👌🏻😘</td>\n",
       "      <td>5</td>\n",
       "    </tr>\n",
       "    <tr>\n",
       "      <th>4</th>\n",
       "      <td>4</td>\n",
       "      <td>DELL Inspiron Athlon Dual Core 3050U - (4 GB/2...</td>\n",
       "      <td>Light weight laptop with new amazing features,...</td>\n",
       "      <td>5</td>\n",
       "    </tr>\n",
       "    <tr>\n",
       "      <th>5</th>\n",
       "      <td>5</td>\n",
       "      <td>DELL Inspiron Athlon Dual Core 3050U - (4 GB/2...</td>\n",
       "      <td>Amazing laptop, am so much happy, thanks for F...</td>\n",
       "      <td>5</td>\n",
       "    </tr>\n",
       "    <tr>\n",
       "      <th>6</th>\n",
       "      <td>6</td>\n",
       "      <td>DELL Inspiron Athlon Dual Core 3050U - (4 GB/2...</td>\n",
       "      <td>Over all a good laptop for personal use</td>\n",
       "      <td>5</td>\n",
       "    </tr>\n",
       "    <tr>\n",
       "      <th>7</th>\n",
       "      <td>7</td>\n",
       "      <td>DELL Inspiron Athlon Dual Core 3050U - (4 GB/2...</td>\n",
       "      <td>Thank you so much Flipkart</td>\n",
       "      <td>4</td>\n",
       "    </tr>\n",
       "    <tr>\n",
       "      <th>8</th>\n",
       "      <td>8</td>\n",
       "      <td>DELL Inspiron Athlon Dual Core 3050U - (4 GB/2...</td>\n",
       "      <td>Amazing product</td>\n",
       "      <td>5</td>\n",
       "    </tr>\n",
       "    <tr>\n",
       "      <th>9</th>\n",
       "      <td>9</td>\n",
       "      <td>DELL Inspiron Athlon Dual Core 3050U - (4 GB/2...</td>\n",
       "      <td>Good for normal work , students, online classe...</td>\n",
       "      <td>3</td>\n",
       "    </tr>\n",
       "    <tr>\n",
       "      <th>10</th>\n",
       "      <td>10</td>\n",
       "      <td>DELL Inspiron Athlon Dual Core 3050U - (4 GB/2...</td>\n",
       "      <td>Laptop received was in good packaging and good...</td>\n",
       "      <td>5</td>\n",
       "    </tr>\n",
       "    <tr>\n",
       "      <th>11</th>\n",
       "      <td>11</td>\n",
       "      <td>DELL Inspiron Athlon Dual Core 3050U - (4 GB/2...</td>\n",
       "      <td>Very nice</td>\n",
       "      <td>5</td>\n",
       "    </tr>\n",
       "    <tr>\n",
       "      <th>12</th>\n",
       "      <td>12</td>\n",
       "      <td>DELL Inspiron Athlon Dual Core 3050U - (4 GB/2...</td>\n",
       "      <td>Good product but dilevary slow</td>\n",
       "      <td>4</td>\n",
       "    </tr>\n",
       "    <tr>\n",
       "      <th>13</th>\n",
       "      <td>13</td>\n",
       "      <td>ASUS VivoBook 15 (2021) Core i3 10th Gen - (8 ...</td>\n",
       "      <td>If you can affort few thousands extra you can ...</td>\n",
       "      <td>2</td>\n",
       "    </tr>\n",
       "    <tr>\n",
       "      <th>14</th>\n",
       "      <td>14</td>\n",
       "      <td>ASUS VivoBook 15 (2021) Core i3 10th Gen - (8 ...</td>\n",
       "      <td>Good</td>\n",
       "      <td>5</td>\n",
       "    </tr>\n",
       "    <tr>\n",
       "      <th>15</th>\n",
       "      <td>15</td>\n",
       "      <td>ASUS VivoBook 15 (2021) Core i3 10th Gen - (8 ...</td>\n",
       "      <td>All good but battery backup not good enough</td>\n",
       "      <td>3</td>\n",
       "    </tr>\n",
       "    <tr>\n",
       "      <th>16</th>\n",
       "      <td>16</td>\n",
       "      <td>ASUS VivoBook 15 (2021) Core i3 10th Gen - (8 ...</td>\n",
       "      <td>I'll update this review again after a month us...</td>\n",
       "      <td>5</td>\n",
       "    </tr>\n",
       "    <tr>\n",
       "      <th>17</th>\n",
       "      <td>17</td>\n",
       "      <td>ASUS VivoBook 15 (2021) Core i3 10th Gen - (8 ...</td>\n",
       "      <td>I love it ....❣️</td>\n",
       "      <td>5</td>\n",
       "    </tr>\n",
       "    <tr>\n",
       "      <th>18</th>\n",
       "      <td>18</td>\n",
       "      <td>ASUS VivoBook 15 (2021) Core i3 10th Gen - (8 ...</td>\n",
       "      <td>Good</td>\n",
       "      <td>4</td>\n",
       "    </tr>\n",
       "    <tr>\n",
       "      <th>19</th>\n",
       "      <td>19</td>\n",
       "      <td>ASUS VivoBook 15 (2021) Core i3 10th Gen - (8 ...</td>\n",
       "      <td>Best Laptop 💻 👌 in the segment. Classy perform...</td>\n",
       "      <td>4</td>\n",
       "    </tr>\n",
       "  </tbody>\n",
       "</table>\n",
       "</div>"
      ],
      "text/plain": [
       "    Unnamed: 0                                       Product_name  \\\n",
       "0            0  Lenovo Ideapad Gaming 3 Ryzen 5 Hexa Core 5600...   \n",
       "1            1  Lenovo Ideapad Gaming 3 Ryzen 5 Hexa Core 5600...   \n",
       "2            2  Lenovo Ideapad Gaming 3 Ryzen 5 Hexa Core 5600...   \n",
       "3            3  DELL Inspiron Athlon Dual Core 3050U - (4 GB/2...   \n",
       "4            4  DELL Inspiron Athlon Dual Core 3050U - (4 GB/2...   \n",
       "5            5  DELL Inspiron Athlon Dual Core 3050U - (4 GB/2...   \n",
       "6            6  DELL Inspiron Athlon Dual Core 3050U - (4 GB/2...   \n",
       "7            7  DELL Inspiron Athlon Dual Core 3050U - (4 GB/2...   \n",
       "8            8  DELL Inspiron Athlon Dual Core 3050U - (4 GB/2...   \n",
       "9            9  DELL Inspiron Athlon Dual Core 3050U - (4 GB/2...   \n",
       "10          10  DELL Inspiron Athlon Dual Core 3050U - (4 GB/2...   \n",
       "11          11  DELL Inspiron Athlon Dual Core 3050U - (4 GB/2...   \n",
       "12          12  DELL Inspiron Athlon Dual Core 3050U - (4 GB/2...   \n",
       "13          13  ASUS VivoBook 15 (2021) Core i3 10th Gen - (8 ...   \n",
       "14          14  ASUS VivoBook 15 (2021) Core i3 10th Gen - (8 ...   \n",
       "15          15  ASUS VivoBook 15 (2021) Core i3 10th Gen - (8 ...   \n",
       "16          16  ASUS VivoBook 15 (2021) Core i3 10th Gen - (8 ...   \n",
       "17          17  ASUS VivoBook 15 (2021) Core i3 10th Gen - (8 ...   \n",
       "18          18  ASUS VivoBook 15 (2021) Core i3 10th Gen - (8 ...   \n",
       "19          19  ASUS VivoBook 15 (2021) Core i3 10th Gen - (8 ...   \n",
       "\n",
       "                                               Review  Rating  \n",
       "0   Best under 60k Great performanceI got it for a...       5  \n",
       "1                                  Good perfomence...       5  \n",
       "2   Great performance but usually it has also that...       5  \n",
       "3            My wife is so happy and best product 👌🏻😘       5  \n",
       "4   Light weight laptop with new amazing features,...       5  \n",
       "5   Amazing laptop, am so much happy, thanks for F...       5  \n",
       "6             Over all a good laptop for personal use       5  \n",
       "7                          Thank you so much Flipkart       4  \n",
       "8                                     Amazing product       5  \n",
       "9   Good for normal work , students, online classe...       3  \n",
       "10  Laptop received was in good packaging and good...       5  \n",
       "11                                          Very nice       5  \n",
       "12                     Good product but dilevary slow       4  \n",
       "13  If you can affort few thousands extra you can ...       2  \n",
       "14                                               Good       5  \n",
       "15        All good but battery backup not good enough       3  \n",
       "16  I'll update this review again after a month us...       5  \n",
       "17                                   I love it ....❣️       5  \n",
       "18                                               Good       4  \n",
       "19  Best Laptop 💻 👌 in the segment. Classy perform...       4  "
      ]
     },
     "execution_count": 5,
     "metadata": {},
     "output_type": "execute_result"
    }
   ],
   "source": [
    "flipk.head(20)"
   ]
  },
  {
   "cell_type": "code",
   "execution_count": 6,
   "id": "29074a6b",
   "metadata": {
    "scrolled": true
   },
   "outputs": [
    {
     "data": {
      "text/plain": [
       "Product_name\n",
       "realme C25_Y (Metal Grey, 64 GB)  (4 GB RAM)                                                                                                                                                   20\n",
       "realme C25Y (Glacier Blue, 128 GB)  (4 GB RAM)                                                                                                                                                 20\n",
       "realme C25_Y (Glacier Blue, 128 GB)  (4 GB RAM)                                                                                                                                                20\n",
       "realme C25_Y (Glacier Blue, 64 GB)  (4 GB RAM)                                                                                                                                                 20\n",
       "realme C21Y (Cross Black, 64 GB)  (4 GB RAM)                                                                                                                                                   20\n",
       "                                                                                                                                                                                               ..\n",
       "DELL Inspiron Ryzen 3 Dual Core 3250U - (8 GB/256 GB SSD/Windows 11 Home) INSPIRON 3515 Thin and Light Laptop  (15.6 Inch, Carbon Black, 1.8 Kgs, With MS Office)                               2\n",
       "Lenovo IdeaPad Gaming 3 Core i5 11th Gen - (8 GB/512 GB SSD/Windows 10 Home/4 GB Graphics/NVIDIA GeForce GTX 1650) 15IHU6 Gaming Laptop  (15.6 inch, Shadow Black, 2.25 kg, With MS Office)     2\n",
       "LG 24 inch Full HD LED Backlit IPS Panel Monitor (24MP400)  (Response Time: 5 ms)                                                                                                               1\n",
       "Lenovo G Series 23.8 inch Full HD LED Backlit IPS Panel Gaming Monitor (G24-20)  (Response Time: 0.5 ms)                                                                                        1\n",
       "DELL Vostro Ryzen 3 Dual Core R3-3250U - (8 GB/1 TB HDD/Windows 11 Home) Vostro 3405 Thin and Light Laptop  (14 inch, Accent Black, 1.59 Kg, With MS Office)                                    1\n",
       "Name: count, Length: 231, dtype: int64"
      ]
     },
     "execution_count": 6,
     "metadata": {},
     "output_type": "execute_result"
    }
   ],
   "source": [
    "flipk.Product_name.value_counts()"
   ]
  },
  {
   "cell_type": "code",
   "execution_count": 7,
   "id": "179b2279",
   "metadata": {},
   "outputs": [],
   "source": [
    "# 231 unique products are present in this dataset"
   ]
  },
  {
   "cell_type": "code",
   "execution_count": null,
   "id": "e400d9e7",
   "metadata": {},
   "outputs": [],
   "source": []
  },
  {
   "cell_type": "code",
   "execution_count": 8,
   "id": "44e90b8c",
   "metadata": {},
   "outputs": [
    {
     "data": {
      "text/plain": [
       "array(['Lenovo Ideapad Gaming 3 Ryzen 5 Hexa Core 5600H - (8 GB/512 GB SSD/Windows 11 Home/4 GB Graphics/NVIDIA GeForce GTX 1650/120 Hz) 15ACH6 Gaming Laptop\\xa0\\xa0(15.6 inch, Shadow Black, 2.25$$kg kg)',\n",
       "       'DELL Inspiron Athlon Dual Core 3050U - (4 GB/256 GB SSD/Windows 11 Home) INSPIRON 3515 Thin and Light Laptop\\xa0\\xa0(15.6 Inch, Carbon Black, 1.8 Kgs, With MS Office)',\n",
       "       'ASUS VivoBook 15 (2021) Core i3 10th Gen - (8 GB/512 GB SSD/Windows 11 Home) X515JA-EJ362WS Thin and Light Laptop\\xa0\\xa0(15.6 inch, Transparent Silver, 1.80 kg, With MS Office)',\n",
       "       'Lenovo IdeaPad 3 Core i3 11th Gen - (8 GB/512 GB SSD/Windows 11 Home) 15ITL6 Thin and Light Laptop\\xa0\\xa0(15.6 inch, Arctic Grey, 1.65 kg, With MS Office)',\n",
       "       'HP Core i3 11th Gen - (8 GB/512 GB SSD/Windows 11 Home) 15s-dy3501TU Thin and Light Laptop\\xa0\\xa0(15.6 inch, Natural Silver, 1.75 kg, With MS Office)',\n",
       "       'ASUS VivoBook 15 (2021) Core i3 11th Gen - (4 GB/256 GB SSD/Windows 10 Home) X515EA-EJ302TS Thin and Light Laptop\\xa0\\xa0(15.6 inch, Transparent Silver, 1.80 kg, With MS Office)',\n",
       "       'RedmiBook 15 e-Learning Edition Core i3 11th Gen - (8 GB/256 GB SSD/Windows 10 Home) Thin and Light Laptop\\xa0\\xa0(15.6 inch, Charcoal Gray, 1.8 kg, With MS Office)',\n",
       "       'ASUS Core i3 11th Gen - (8 GB/256 GB SSD/Windows 11 Home) X515EA-EJ312WS Thin and Light Laptop\\xa0\\xa0(15.6 inch, Transparent Silver, 1.80 kg, With MS Office)',\n",
       "       'DELL Inspiron Core i3 11th Gen - (8 GB/1 TB HDD/256 GB SSD/Windows 11 Home) Inspiron 3511 Thin and Light Laptop\\xa0\\xa0(15.6 Inch, Carbon Black, 1.8 Kgs, With MS Office)',\n",
       "       'HP Ryzen 3 Dual Core 3250U - (8 GB/256 GB SSD/Windows 10 Home) 15s-GY0501AU Thin and Light Laptop\\xa0\\xa0(15.6 inch, Natural Silver, 1.69 kg, With MS Office)',\n",
       "       'Lenovo ThinkBook 13s Core i5 11th Gen - (8 GB/512 GB SSD/Windows 10 Home) TB13s ITL Gen 2 Thin and Light Laptop\\xa0\\xa0(13 inch, Mineral Grey, 1.26 kg, With MS Office)',\n",
       "       'acer Aspire 7 Core i5 10th Gen - (8 GB/512 GB SSD/Windows 10 Home/4 GB Graphics/NVIDIA GeForce GTX 1650) A715-75G-50TA/ A715-75G-41G/ A715-75G-52AA Gaming Laptop\\xa0\\xa0(15.6 inch, Black, 2.15 Kg)',\n",
       "       'DELL Vostro Ryzen 3 Dual Core R3-3250U - (8 GB/1 TB HDD/Windows 11 Home) Vostro 3405 Thin and Light Laptop\\xa0\\xa0(14 inch, Accent Black, 1.59 Kg, With MS Office)',\n",
       "       'ASUS Ryzen 3 Dual Core 3250U 3rd Gen - (8 GB/256 GB SSD/Windows 10 Home) M515DA-BQ322TS Thin and Light Laptop\\xa0\\xa0(15.6 inch, Transparent Silver, 1.80 kg, With MS Office)',\n",
       "       'Lenovo ThinkBook 13s Core i5 11th Gen - (16 GB/512 GB SSD/Windows 10 Home) TB13s ITL Gen 2 Thin and Light Laptop\\xa0\\xa0(13 inch, Mineral Grey, 1.26 kg, With MS Office)',\n",
       "       'HP 15s Ryzen 3 Dual Core 3250U - (8 GB/1 TB HDD/256 GB SSD/Windows 10 Home) 15s-GR0012AU Laptop\\xa0\\xa0(15.6 inch, Natural Silver, 1.82 kg, With MS Office)',\n",
       "       'HP Core i3 11th Gen - (8 GB/512 GB SSD/Windows 11 Home) 15s-du3563TU Thin and Light Laptop\\xa0\\xa0(15.6 inch, Jet Black, 1.75 kg, With MS Office)',\n",
       "       'Lenovo IdeaPad 3 Ryzen 5 Hexa Core 5500U - (8 GB/512 GB SSD/Windows 11 Home) 15ALC6 Thin and Light Laptop\\xa0\\xa0(15.6 inch, Arctic Grey, 1.65 kg, With MS Office)',\n",
       "       'Lenovo Legion 5 Ryzen 5 Hexa Core 4600H - (8 GB/1 TB HDD/256 GB SSD/Windows 10 Home/4 GB Graphics/NVIDIA GeForce GTX 1650/120 Hz) 15ARH05 Gaming Laptop\\xa0\\xa0(15.6 inch, Phantom Black, 2.3 kg)',\n",
       "       'DELL Inspiron Ryzen 3 Dual Core 3250U - (8 GB/256 GB SSD/Windows 11 Home) INSPIRON 3515 Thin and Light Laptop\\xa0\\xa0(15.6 Inch, Carbon Black, 1.8 Kgs, With MS Office)',\n",
       "       'HP Ryzen 3 Quad Core 5300U - (8 GB/512 GB SSD/Windows 11 Home) 15s-eq2143au Thin and Light Laptop\\xa0\\xa0(15.6 inch, Natural Silver, 1.69 Kg, With MS Office)',\n",
       "       'Lenovo IdeaPad Gaming 3 Core i5 11th Gen - (8 GB/512 GB SSD/Windows 10 Home/4 GB Graphics/NVIDIA GeForce GTX 1650) 15IHU6 Gaming Laptop\\xa0\\xa0(15.6 inch, Shadow Black, 2.25 kg, With MS Office)',\n",
       "       'APPLE iPhone SE (Red, 128 GB)',\n",
       "       'realme C25Y (Metal Grey, 128 GB)\\xa0\\xa0(4 GB RAM)',\n",
       "       'realme C21Y (Cross Blue, 32 GB)\\xa0\\xa0(3 GB RAM)',\n",
       "       'LAVA Flip\\xa0\\xa0(Blue)',\n",
       "       'realme C21Y (Cross Black, 32 GB)\\xa0\\xa0(3 GB RAM)',\n",
       "       'realme C21Y (Cross Blue, 64 GB)\\xa0\\xa0(4 GB RAM)',\n",
       "       'realme C21Y (Cross Black, 64 GB)\\xa0\\xa0(4 GB RAM)',\n",
       "       'LAVA A1500\\xa0\\xa0(Black)',\n",
       "       'realme C25_Y (Glacier Blue, 64 GB)\\xa0\\xa0(4 GB RAM)',\n",
       "       'realme C25_Y (Metal Grey, 64 GB)\\xa0\\xa0(4 GB RAM)',\n",
       "       'realme C25_Y (Glacier Blue, 128 GB)\\xa0\\xa0(4 GB RAM)',\n",
       "       'LAVA Hero 600+\\xa0\\xa0(Blue, Green)',\n",
       "       'realme C25_Y (Metal Grey, 128 GB)\\xa0\\xa0(4 GB RAM)',\n",
       "       'POCO C31 (Royal Blue, 64 GB)\\xa0\\xa0(4 GB RAM)',\n",
       "       'realme C25Y (Glacier Blue, 128 GB)\\xa0\\xa0(4 GB RAM)',\n",
       "       'LAVA Gem\\xa0\\xa0(Blue Gold S)', 'APPLE iPhone SE (Red, 64 GB)',\n",
       "       'POCO C31 (Shadow Gray, 64 GB)\\xa0\\xa0(4 GB RAM)',\n",
       "       'POCO C31 (Royal Blue, 32 GB)\\xa0\\xa0(3 GB RAM)',\n",
       "       'LAVA A3\\xa0\\xa0(White + Beige S)',\n",
       "       'realme C25Y (Metal Grey, 64 GB)\\xa0\\xa0(4 GB RAM)',\n",
       "       'Infinix Hot 11S (7° Purple, 64 GB)\\xa0\\xa0(4 GB RAM)',\n",
       "       'Infinix Hot 11S (Green Wave, 64 GB)\\xa0\\xa0(4 GB RAM)',\n",
       "       'LAVA A3\\xa0\\xa0(Dark Blue + Grey S D)',\n",
       "       'SAMSUNG 253 L Frost Free Double Door 3 Star Refrigerator\\xa0\\xa0(Elegant Inox, RT28A3453S8/HL)',\n",
       "       'SAMSUNG 198 L Direct Cool Single Door 4 Star Refrigerator with Base Drawer\\xa0\\xa0(Camellia Blue, RR21T2H2XCU/HL)',\n",
       "       'SAMSUNG 192 L Direct Cool Single Door 2 Star Refrigerator\\xa0\\xa0(Gray Silver, RR19A241BGS/NL)',\n",
       "       'SAMSUNG 198 L Direct Cool Single Door 5 Star Refrigerator with Base Drawer\\xa0\\xa0(Camellia Blue, RR21T2H2WCU/HL)',\n",
       "       'LG 190 L Direct Cool Single Door 4 Star Refrigerator with Base Drawer\\xa0\\xa0(Scarlet Charm, GL-D201ASCY)',\n",
       "       'SAMSUNG 230 L Direct Cool Single Door 3 Star Refrigerator with Base Drawer\\xa0\\xa0(Camellia Purple, RR24T285YCR/NL)',\n",
       "       'SAMSUNG 253 L Frost Free Double Door 3 Star Convertible Refrigerator\\xa0\\xa0(Elegant Inox, RT28T3743S8/HL)',\n",
       "       'LG 190 L Direct Cool Single Door 4 Star Refrigerator with Base Drawer\\xa0\\xa0(Blue Plumeria, GL-D201ABPY)',\n",
       "       'SAMSUNG 198 L Direct Cool Single Door 4 Star Refrigerator with Base Drawer\\xa0\\xa0(Camellia Purple, RR21T2H2XCR/HL)',\n",
       "       'Whirlpool 190 L Direct Cool Single Door 2 Star Refrigerator\\xa0\\xa0(Wine, WDE 205 CLS PLUS 2S WINE BLOOM)',\n",
       "       'Whirlpool 240 L Frost Free Triple Door Refrigerator\\xa0\\xa0(Magnum Steel, FP 263D PROTTON ROY MAGNUM STEEL(N))',\n",
       "       'Whirlpool 190 L Direct Cool Single Door 2 Star Refrigerator\\xa0\\xa0(Solid Blue / Blue, WDE 205 CLS 2S BLUE)',\n",
       "       'SAMSUNG 230 L Direct Cool Single Door 3 Star Refrigerator\\xa0\\xa0(Elegant Inox, RR24A2Y2YS8/NL)',\n",
       "       'Whirlpool 190 L Direct Cool Single Door 2 Star Refrigerator with Base Drawer\\xa0\\xa0(Sapphire, WDE 205 ROY 2S SAPPHIRE BLOOM)',\n",
       "       'Godrej 185 L Direct Cool Single Door 4 Star Refrigerator\\xa0\\xa0(Aqua Blue, RD UNO 1854 PTI AQ BL)',\n",
       "       'LG 190 L Direct Cool Single Door 4 Star Refrigerator\\xa0\\xa0(Scarlet Plumeria, GL-B201ASPY)',\n",
       "       'SAMSUNG 192 L Direct Cool Single Door 2 Star Refrigerator with Base Drawer\\xa0\\xa0(Mystic Overlay Red, RR19A2Z2B6R/NL)',\n",
       "       'LG 190 L Direct Cool Single Door 5 Star Refrigerator with Base Drawer  with Smart Inverter Compressor\\xa0\\xa0(Blue Charm, GL-D201ABCZ)',\n",
       "       'Haier 195 L Direct Cool Single Door 5 Star Refrigerator\\xa0\\xa0(Brushline Silver, HED-20FDS)',\n",
       "       'SAMSUNG 275 L Frost Free Double Door 3 Star Convertible Refrigerator\\xa0\\xa0(Refined Inox, RT30T3743S9/HL)',\n",
       "       'LG 260 L Frost Free Double Door Top Mount 3 Star Convertible Refrigerator\\xa0\\xa0(Dazzle Steel, GL-S292RDSX)',\n",
       "       'SAMSUNG 198 L Direct Cool Single Door 5 Star Refrigerator with Base Drawer\\xa0\\xa0(Delight Indigo, RR21A2H2WTU/HL)',\n",
       "       'SAMSUNG 192 L Direct Cool Single Door 1 Star Refrigerator\\xa0\\xa0(Scarlet Red, RR19T21CARH/NL)',\n",
       "       'Whirlpool 190 L Direct Cool Single Door 2 Star Refrigerator\\xa0\\xa0(Wine Fiesta, WDE 205 CLS PLUS 2S WINE FIESTA)',\n",
       "       'realme 80 cm (32 inch) HD Ready LED Smart Android TV\\xa0\\xa0(TV 32)',\n",
       "       'Vu Premium TV 80 cm (32 inch) HD Ready LED Smart TV with Bezel-Less Frame\\xa0\\xa0(32UA)',\n",
       "       'Mi 4A Horizon Edition 100 cm (40 inch) Full HD LED Smart Android TV',\n",
       "       'Mi 4A Horizon Edition 80 cm (32 inch) HD Ready LED Smart Android TV',\n",
       "       'SAMSUNG 80 cm (32 inch) HD Ready LED Smart TV\\xa0\\xa0(UA32T4340AKXXL / UA32T4340BKXXL)',\n",
       "       'Mi 5X 108 cm (43 inch) Ultra HD (4K) LED Smart Android TV with Dolby Atmos and Dolby Vision',\n",
       "       'OnePlus Y Series 80 cm (32 inch) HD Ready LED Smart Android TV\\xa0\\xa0(32HA0A00)',\n",
       "       'Vu Premium 139 cm (55 inch) Ultra HD (4K) LED Smart Android TV\\xa0\\xa0(55PM)',\n",
       "       'Coocaa 80 cm (32 inch) HD Ready LED Smart TV\\xa0\\xa0(32S3U-Pro)',\n",
       "       'OnePlus Y Series 100 cm (40 inch) Full HD LED Smart Android TV\\xa0\\xa0(40FA1A00)',\n",
       "       'SAMSUNG 80 cm (32 inch) HD Ready LED Smart TV with Voice Search\\xa0\\xa0(UA32TE40FAKBXL)',\n",
       "       'Mi 4A Horizon Edition 108 cm (43 inch) Full HD LED Smart Android TV',\n",
       "       'realme 108 cm (43 inch) Ultra HD (4K) LED Smart Android TV with Handsfree Voice Search and Dolby Vision & Atmos\\xa0\\xa0(RMV2004)',\n",
       "       'Mi 5X 125.7 cm (50 inch) Ultra HD (4K) LED Smart Android TV with Dolby Atmos and Dolby Vision',\n",
       "       'Vu Premium 108 cm (43 inch) Ultra HD (4K) LED Smart Android TV\\xa0\\xa0(43PM)',\n",
       "       'Mi 4A PRO 80 cm (32 inch) HD Ready LED Smart Android TV',\n",
       "       'Mi 5X 138.8 cm (55 inch) Ultra HD (4K) LED Smart Android TV with Dolby Atmos and Dolby Vision',\n",
       "       'Vu Premium 108 cm (43 inch) Full HD LED Smart Android TV\\xa0\\xa0(43UA)',\n",
       "       'LG 80 cm (32 inch) HD Ready LED Smart TV\\xa0\\xa0(32LM565BPTA)',\n",
       "       'Mi 4C 108 cm (43 inch) Full HD LED Smart Android TV',\n",
       "       'OnePlus Y Series 108 cm (43 inch) Full HD LED Smart Android TV\\xa0\\xa0(43FA0A00)',\n",
       "       'realme NEO 80 cm (32 inch) HD Ready LED Smart TV\\xa0\\xa0(RMV2101)',\n",
       "       'MOTOROLA ZX2 100 cm (40 inch) Full HD LED Smart Android TV with Dolby Atmos and Dolby Vision\\xa0\\xa0(40SAFHDME)',\n",
       "       'LG 108 cm (43 inch) Ultra HD (4K) LED Smart TV\\xa0\\xa0(43UP7500PTZ)',\n",
       "       'SAMSUNG Galaxy F12 (Sky Blue, 128 GB)\\xa0\\xa0(4 GB RAM)',\n",
       "       'SAMSUNG Galaxy F12 (Celestial Black, 64 GB)\\xa0\\xa0(4 GB RAM)',\n",
       "       'SAMSUNG Galaxy F12 (Sky Blue, 64 GB)\\xa0\\xa0(4 GB RAM)',\n",
       "       'SAMSUNG Galaxy F22 (Denim Blue, 64 GB)\\xa0\\xa0(4 GB RAM)',\n",
       "       'SAMSUNG Galaxy F22 (Denim Black, 64 GB)\\xa0\\xa0(4 GB RAM)',\n",
       "       'SAMSUNG Galaxy F12 (Sea Green, 128 GB)\\xa0\\xa0(4 GB RAM)',\n",
       "       'SAMSUNG Galaxy M12 (Black, 64 GB)\\xa0\\xa0(4 GB RAM)',\n",
       "       'SAMSUNG Galaxy M12 (Blue, 128 GB)\\xa0\\xa0(6 GB RAM)',\n",
       "       'SAMSUNG Galaxy F12 (Sea Green, 64 GB)\\xa0\\xa0(4 GB RAM)',\n",
       "       'SAMSUNG Metro 313 Dual Sim\\xa0\\xa0(Black)',\n",
       "       'SAMSUNG Galaxy M32 (Black, 128 GB)\\xa0\\xa0(6 GB RAM)',\n",
       "       'SAMSUNG Galaxy M12 (Black, 128 GB)\\xa0\\xa0(6 GB RAM)',\n",
       "       'SAMSUNG Galaxy M32 5G (Sky Blue, 128 GB)\\xa0\\xa0(8 GB RAM)',\n",
       "       'SAMSUNG Galaxy M32 (Black, 64 GB)\\xa0\\xa0(4 GB RAM)',\n",
       "       'SAMSUNG Galaxy F42 5G (Matte Black, 128 GB)\\xa0\\xa0(6 GB RAM)',\n",
       "       'SAMSUNG Guru Music 2\\xa0\\xa0(Gold)',\n",
       "       'SAMSUNG GURU 1200\\xa0\\xa0(Black)',\n",
       "       'SAMSUNG M21 2021 Edition (Charcoal Black, 64 GB)\\xa0\\xa0(4 GB RAM)',\n",
       "       'SAMSUNG Galaxy A12 (Black, 128 GB)\\xa0\\xa0(6 GB RAM)',\n",
       "       'SAMSUNG Galaxy M12 (Blue, 64 GB)\\xa0\\xa0(4 GB RAM)',\n",
       "       'SAMSUNG Galaxy A22 5G (Mint, 128 GB)\\xa0\\xa0(6 GB RAM)',\n",
       "       'SAMSUNG Galaxy F42 5G (Matte Aqua, 128 GB)\\xa0\\xa0(6 GB RAM)',\n",
       "       'Xiaomi 11i 5G (Purple Mist, 128 GB)\\xa0\\xa0(6 GB RAM)',\n",
       "       'Xiaomi 11i 5G (Stealth Black, 128 GB)\\xa0\\xa0(6 GB RAM)',\n",
       "       'Xiaomi 11i 5G (Pacific Pearl, 128 GB)\\xa0\\xa0(6 GB RAM)',\n",
       "       'Xiaomi 11i 5G (Purple Mist, 128 GB)\\xa0\\xa0(8 GB RAM)',\n",
       "       'Xiaomi 11i 5G (Stealth Black, 128 GB)\\xa0\\xa0(8 GB RAM)',\n",
       "       'Redmi 9A Sport (Coral Green, 32 GB)\\xa0\\xa0(3 GB RAM)',\n",
       "       'Redmi 9A Sport (Metallic Blue, 32 GB)\\xa0\\xa0(2 GB RAM)',\n",
       "       'REDMI Note 11T 5G (Aquamarine Blue, 64 GB)\\xa0\\xa0(6 GB RAM)',\n",
       "       'Redmi 9A Sport (Metallic Blue, 32 GB)\\xa0\\xa0(3 GB RAM)',\n",
       "       'Redmi 9A (Nature Green, 32 GB)\\xa0\\xa0(2 GB RAM)',\n",
       "       'Mi 3i 20000 mAh Power Bank (Fast Charging, 18W)\\xa0\\xa0(Black, Lithium Polymer)',\n",
       "       'Redmi 9A (SeaBlue, 32 GB)\\xa0\\xa0(2 GB RAM)',\n",
       "       'Redmi 9A (Midnight Black, 32 GB)\\xa0\\xa0(2 GB RAM)',\n",
       "       'Redmi 9A (Nature Green, 32 GB)\\xa0\\xa0(3 GB RAM)',\n",
       "       'REDMI NOTE 10 LITE (Glacier White, 128 GB)\\xa0\\xa0(4 GB RAM)',\n",
       "       'Xiaomi 11i 5G (Camo Green, 128 GB)\\xa0\\xa0(6 GB RAM)',\n",
       "       'Redmi 9A Sport (Carbon Black, 32 GB)\\xa0\\xa0(2 GB RAM)',\n",
       "       'Redmi 9A Sport (Coral Green, 32 GB)\\xa0\\xa0(2 GB RAM)',\n",
       "       'Xiaomi 11i 5G (Pacific Pearl, 128 GB)\\xa0\\xa0(8 GB RAM)',\n",
       "       'Xiaomi 11i 5G (Camo Green, 128 GB)\\xa0\\xa0(8 GB RAM)',\n",
       "       'Xiaomi 11i Hypercharge 5G (Camo Green, 128 GB)\\xa0\\xa0(6 GB RAM)',\n",
       "       'Mi 3i 10000 mAh Power Bank (Fast Charging, 18W)\\xa0\\xa0(Blue,Black,Midnight Black, Lithium Polymer)',\n",
       "       'Redmi 9A Sport (Carbon Black, 32 GB)\\xa0\\xa0(3 GB RAM)',\n",
       "       'Xiaomi 11Lite NE (Jazz Blue, 128 GB)\\xa0\\xa0(8 GB RAM)',\n",
       "       'Xiaomi 11Lite NE (Vinyl Black, 128 GB)\\xa0\\xa0(8 GB RAM)',\n",
       "       'Xiaomi 11Lite NE (Diamond Dazzle, 128 GB)\\xa0\\xa0(8 GB RAM)',\n",
       "       'Xiaomi 11i Hypercharge 5G (Stealth Black, 128 GB)\\xa0\\xa0(6 GB RAM)',\n",
       "       'Xiaomi 11i Hypercharge 5G (Purple Mist, 128 GB)\\xa0\\xa0(6 GB RAM)',\n",
       "       'Xiaomi 11i Hypercharge 5G (Purple Mist, 128 GB)\\xa0\\xa0(8 GB RAM)',\n",
       "       'Xiaomi 11i Hypercharge 5G (Pacific Pearl, 128 GB)\\xa0\\xa0(6 GB RAM)',\n",
       "       'REDMI Note 11T 5G (Stardust White, 128 GB)\\xa0\\xa0(6 GB RAM)',\n",
       "       'Mi 3i 10000 mAh Power Bank (Fast Charging, 18W)\\xa0\\xa0(Blue, Lithium Polymer)',\n",
       "       'Redmi 9A (Sea Blue, 32 GB)\\xa0\\xa0(3 GB RAM)',\n",
       "       'REDMI Note 11T 5G (Aquamarine Blue, 128 GB)\\xa0\\xa0(6 GB RAM)',\n",
       "       'Redmi Y1 lite (Grey, 16 GB)\\xa0\\xa0(2 GB RAM)',\n",
       "       'REDMI Note 11T 5G (Matte black, 128 GB)\\xa0\\xa0(6 GB RAM)',\n",
       "       'Redmi 9A (Midnight Black, 32 GB)\\xa0\\xa0(3 GB RAM)',\n",
       "       'Redmi 7A (Matte Gold, 32 GB)\\xa0\\xa0(2 GB RAM)',\n",
       "       'Xiaomi 11Lite NE (Jazz Blue, 128 GB)\\xa0\\xa0(6 GB RAM)',\n",
       "       'realme C11 2021 (Cool Grey, 32 GB)\\xa0\\xa0(2 GB RAM)',\n",
       "       'realme C11 2021 (Cool Blue, 32 GB)\\xa0\\xa0(2 GB RAM)',\n",
       "       'realme Narzo 50A (Oxygen Blue, 64 GB)\\xa0\\xa0(4 GB RAM)',\n",
       "       'realme C11 2021 (Cool Blue, 64 GB)\\xa0\\xa0(4 GB RAM)',\n",
       "       'realme C11 2021 (Cool Grey, 64 GB)\\xa0\\xa0(4 GB RAM)',\n",
       "       'realme Narzo 50A (Oxygen Green, 128 GB)\\xa0\\xa0(4 GB RAM)',\n",
       "       'realme Narzo 50A (Oxygen Green, 64 GB)\\xa0\\xa0(4 GB RAM)',\n",
       "       'realme 9i (Prism Blue, 64 GB)\\xa0\\xa0(4 GB RAM)',\n",
       "       'realme Narzo 50A (Oxygen Blue, 128 GB)\\xa0\\xa0(4 GB RAM)',\n",
       "       'realme 9i (Prism Black, 128 GB)\\xa0\\xa0(6 GB RAM)',\n",
       "       'realme 9i (Prism Blue, 128 GB)\\xa0\\xa0(6 GB RAM)',\n",
       "       'realme 9i (Prism Black, 64 GB)\\xa0\\xa0(4 GB RAM)',\n",
       "       'realme 8i (Space Purple, 64 GB)\\xa0\\xa0(4 GB RAM)',\n",
       "       'realme 8i (Space Black, 64 GB)\\xa0\\xa0(4 GB RAM)',\n",
       "       'realme 8i (Space Black, 128 GB)\\xa0\\xa0(6 GB RAM)',\n",
       "       'realme 8i (Space Purple, 128 GB)\\xa0\\xa0(6 GB RAM)',\n",
       "       'realme Narzo 50i (Carbon Black, 32 GB)\\xa0\\xa0(2 GB RAM)',\n",
       "       'realme Narzo 50i (Mint Green, 32 GB)\\xa0\\xa0(2 GB RAM)',\n",
       "       'realme Narzo 30 (Racing Blue, 128 GB)\\xa0\\xa0(6 GB RAM)',\n",
       "       'realme Narzo 50i (Mint Green, 64 GB)\\xa0\\xa0(4 GB RAM)',\n",
       "       'realme Narzo 50i (Carbon Black, 64 GB)\\xa0\\xa0(4 GB RAM)',\n",
       "       'realme C20 (Cool Grey, 32 GB)\\xa0\\xa0(2 GB RAM)',\n",
       "       'realme C20 (Cool Blue, 32 GB)\\xa0\\xa0(2 GB RAM)',\n",
       "       'realme Narzo 30 (Racing Blue, 64 GB)\\xa0\\xa0(4 GB RAM)',\n",
       "       'realme Narzo 30 (Racing Silver, 64 GB)\\xa0\\xa0(6 GB RAM)',\n",
       "       'realme 8 5G (Supersonic Blue, 128 GB)\\xa0\\xa0(4 GB RAM)',\n",
       "       'realme 8 5G (Supersonic Black, 128 GB)\\xa0\\xa0(8 GB RAM)',\n",
       "       'realme 8 (Cyber Black, 128 GB)\\xa0\\xa0(6 GB RAM)',\n",
       "       'realme Narzo 30 (Racing Silver, 128 GB)\\xa0\\xa0(6 GB RAM)',\n",
       "       'Candes 6.5 kg Semi Automatic Top Load Red, White\\xa0\\xa0(CTPL65PLSWM)',\n",
       "       'Whirlpool 6 kg 5 Star,Turbo Scrub Technology Semi Automatic Top Load Grey\\xa0\\xa0(Superb Atom 60i GREY DAZZLE)',\n",
       "       'SAMSUNG 6.5 kg Diamond Drum feature Fully Automatic Top Load Silver\\xa0\\xa0(WA65A4002VS/TL)',\n",
       "       'Whirlpool 7 kg 5 Star,Turbo Scrub Technology Semi Automatic Top Load Grey\\xa0\\xa0(SUPERB ATOM 70S GREY DAZZLE (5YR))',\n",
       "       'SAMSUNG 6.5 kg 5 Star Inverter with Diamond Drum Fully Automatic Top Load Grey\\xa0\\xa0(WA65T4262GG/TL)',\n",
       "       'SAMSUNG 7 kg 5 Star Inverter with Diamond Drum Fully Automatic Top Load Silver\\xa0\\xa0(WA70T4262GS/TL)',\n",
       "       'Whirlpool 7.5 kg 5 Star, Hard Water wash Fully Automatic Top Load Grey\\xa0\\xa0(WM ROYAL PLUS 7.5 GREY 5YMW)',\n",
       "       'Whirlpool 6 kg Fully Automatic Front Load White\\xa0\\xa0(Fresh Care 6112)',\n",
       "       'Thomson 6.5 kg 5 Star Rating, Smart Pro Wash Technology Semi Automatic Top Load White, Grey\\xa0\\xa0(SA96500)',\n",
       "       'IFB 6 kg 5 Star Aqua Energie, Laundry Add, Tub Clean, Fully Automatic Front Load with In-built Heater White\\xa0\\xa0(Diva Aqua VX)',\n",
       "       'Haier 6.5 kg 5 star Ariel Wash Fully Automatic Top Load Brown, Grey\\xa0\\xa0(HWM65-FE)',\n",
       "       'Lloyd 8.5 kg Semi Automatic Top Load Red, White\\xa0\\xa0(LWMS85RDB)',\n",
       "       'LG 6.5 kg 5 Star Inverter Fully Automatic Top Load Silver\\xa0\\xa0(T65SKSF4Z)',\n",
       "       'Godrej 6.2 kg Fully Automatic Top Load Grey\\xa0\\xa0(WT EON 620 AP GP GR)',\n",
       "       'Whirlpool 7 kg With Hard water wash Fully Automatic Top Load Grey\\xa0\\xa0(WM Royal 7.0 GENX Grey 5YMW)',\n",
       "       'Whirlpool 7.5 kg Fully Automatic Top Load with In-built Heater Grey\\xa0\\xa0(SW Ultra 7.5 (SC) Grey 10YMW)',\n",
       "       'Whirlpool 7.5 kg 5 Star, Ace Wash Station Semi Automatic Top Load Grey\\xa0\\xa0(ACE 7.5 SUPREME GREY DAZZLE)',\n",
       "       'SAMSUNG 6 kg 5 Star Inverter with Hygiene Steam Fully Automatic Front Load with In-built Heater White\\xa0\\xa0(WW60R20GLMA/TL)',\n",
       "       'Thomson 7 kg Semi Automatic Top Load White, Blue, Grey\\xa0\\xa0(SA97000)',\n",
       "       'Whirlpool 7.5 kg Fully Automatic Top Load with In-built Heater Grey\\xa0\\xa0(SW PRO H 7.5 Shiny Grey (EC)10YMW)',\n",
       "       'ONIDA 6.5 kg Washer only Red\\xa0\\xa0(Liliput)',\n",
       "       'SAMSUNG 7.2 kg with Double Storm Technology Semi Automatic Top Load White\\xa0\\xa0(WT725QPNDMPXTL 02)',\n",
       "       'Whirlpool 6 kg With Hard water wash Fully Automatic Top Load Grey\\xa0\\xa0(WM ROYAL 6.0 GENX GREY 5YMW)',\n",
       "       'Candes 7.2 kg Semi Automatic Top Load Blue, White\\xa0\\xa0(CTPL72PL1SWM)',\n",
       "       'Lenovo 27 inch Full HD VA Panel with TUV Eye Care Monitor (D27-30)\\xa0\\xa0(Response Time: 4 ms, 75 Hz Refresh Rate)',\n",
       "       'Lenovo L - Series 23.8 Inch Full HD LED Backlit IPS Panel with TUV Eye Care, Smart Display Customization with�Lenovo�Artery Monitor (L24i-30)\\xa0\\xa0(AMD Free Sync, Response Time: 4 ms)',\n",
       "       'ZEBRONICS 18.5 inch HD Monitor (ZEB-V19HD LED)\\xa0\\xa0(Response Time: 8 ms)',\n",
       "       'acer 21.5 inch Full HD IPS Panel White Colour Monitor (HA220Q)\\xa0\\xa0(Frameless, AMD Free Sync, Response Time: 4 ms, 75 Hz Refresh Rate)',\n",
       "       'acer Nitro 21.5 inch Full HD LED Backlit VA Panel Monitor (QG221Q)\\xa0\\xa0(AMD Free Sync, Response Time: 1 ms, 75 Hz Refresh Rate)',\n",
       "       'LG 19M 18.5 inches HD LED Backlit TN Panel Monitor (19M38AB)\\xa0\\xa0(Response Time: 5 ms, 60 Hz Refresh Rate)',\n",
       "       'DELL 19.5 inch HD Monitor (D2020H)\\xa0\\xa0(Response Time: 5 ms)',\n",
       "       'Lenovo 18.5 inch HD TN Panel Monitor (D19-10)\\xa0\\xa0(Response Time: 5 ms, 60 Hz Refresh Rate)',\n",
       "       'SAMSUNG 24 inch Full HD LED Backlit IPS Panel Monitor (LF24T350FHWXXL)\\xa0\\xa0(AMD Free Sync, Response Time: 5 ms, 75 Hz Refresh Rate)',\n",
       "       'HP M Series 21.5 inch Full HD LED Backlit IPS Panel Monitor (M22f)\\xa0\\xa0(Response Time: 5 ms, 75 Hz Refresh Rate)',\n",
       "       'LG 24 inch Full HD LED Backlit IPS Panel Monitor (24MP400)\\xa0\\xa0(Response Time: 5 ms)',\n",
       "       'Lenovo L - Series 21.5 Inch Full HD LED Backlit IPS Panel with TUV Eye Care, Smart Display Customization with�Lenovo�Artery Monitor (L22i-30)\\xa0\\xa0(AMD Free Sync, Response Time: 4 ms)',\n",
       "       'HP M Series 23.8 inch Full HD LED Backlit IPS Panel Monitor (M24f)\\xa0\\xa0(Response Time: 5 ms, 75 Hz Refresh Rate)',\n",
       "       'DELL S Series 24 inch Full HD IPS Panel Monitor (S2421HN)\\xa0\\xa0(AMD Free Sync, Response Time: 4 ms, 75 Hz Refresh Rate)',\n",
       "       'LG 21.5 inch Full HD IPS Panel Ultra Thin Monitor (22MK600M)\\xa0\\xa0(AMD Free Sync, Response Time: 5 ms, 75 Hz Refresh Rate)',\n",
       "       'LG 22 inch Full HD LED Backlit IPS Panel Monitor (22MP68VQ)\\xa0\\xa0(AMD Free Sync, Response Time: 5 ms, 75 Hz Refresh Rate)',\n",
       "       'BenQ 22 inch Full HD LED Backlit VA Panel Monitor (GW2280)\\xa0\\xa0(Response Time: 5 ms, 60 Hz Refresh Rate)',\n",
       "       'BenQ 27 inch Full HD LED Backlit IPS Panel Monitor (GW2780)\\xa0\\xa0(Response Time: 5 ms, 60 Hz Refresh Rate)',\n",
       "       'Lenovo G Series 23.8 inch Full HD LED Backlit IPS Panel Gaming Monitor (G24-20)\\xa0\\xa0(Response Time: 0.5 ms)',\n",
       "       'HP M Series 27 inch Full HD LED Backlit IPS Panel Ultra Slim Bezel Monitor (M27f)\\xa0\\xa0(Response Time: 5 ms, 75 Hz Refresh Rate)',\n",
       "       'DELL P-Series 22 inch Full HD LED Backlit IPS Panel Monitor (P2222H)\\xa0\\xa0(Response Time: 5 ms, 60 Hz Refresh Rate)',\n",
       "       'acer 19.5 inch HD+ LED Backlit TN Panel Monitor (V206HQL)\\xa0\\xa0(Response Time: 5 ms, 60 Hz Refresh Rate)',\n",
       "       'MSI 27 inch Full HD IPS Panel Monitor (PRO MP271(3PA2))\\xa0\\xa0(Response Time: 5 ms, 75 Hz Refresh Rate)'],\n",
       "      dtype=object)"
      ]
     },
     "execution_count": 8,
     "metadata": {},
     "output_type": "execute_result"
    }
   ],
   "source": [
    "flipk.Product_name.unique()"
   ]
  },
  {
   "cell_type": "code",
   "execution_count": 9,
   "id": "053c7073",
   "metadata": {},
   "outputs": [],
   "source": [
    "# Products belong to the 'electronics category' viz. smartphones, television sets, refrigerators, \n",
    "#                                                    laptops, monitors, power banks, etc."
   ]
  },
  {
   "cell_type": "code",
   "execution_count": 10,
   "id": "b21912f0",
   "metadata": {},
   "outputs": [],
   "source": [
    "# Emojis are present in the dataset. To remove them..."
   ]
  },
  {
   "cell_type": "code",
   "execution_count": 11,
   "id": "d2cee38d",
   "metadata": {},
   "outputs": [],
   "source": [
    "#pip install emoji"
   ]
  },
  {
   "cell_type": "code",
   "execution_count": 12,
   "id": "ce158547",
   "metadata": {},
   "outputs": [],
   "source": [
    "import emoji"
   ]
  },
  {
   "cell_type": "code",
   "execution_count": 13,
   "id": "98ab5577",
   "metadata": {},
   "outputs": [],
   "source": [
    "flipk['Review'] = flipk['Review'].apply(lambda s: emoji.replace_emoji(s, ''))"
   ]
  },
  {
   "cell_type": "code",
   "execution_count": 14,
   "id": "d8948747",
   "metadata": {},
   "outputs": [
    {
     "data": {
      "text/html": [
       "<div>\n",
       "<style scoped>\n",
       "    .dataframe tbody tr th:only-of-type {\n",
       "        vertical-align: middle;\n",
       "    }\n",
       "\n",
       "    .dataframe tbody tr th {\n",
       "        vertical-align: top;\n",
       "    }\n",
       "\n",
       "    .dataframe thead th {\n",
       "        text-align: right;\n",
       "    }\n",
       "</style>\n",
       "<table border=\"1\" class=\"dataframe\">\n",
       "  <thead>\n",
       "    <tr style=\"text-align: right;\">\n",
       "      <th></th>\n",
       "      <th>Unnamed: 0</th>\n",
       "      <th>Product_name</th>\n",
       "      <th>Review</th>\n",
       "      <th>Rating</th>\n",
       "    </tr>\n",
       "  </thead>\n",
       "  <tbody>\n",
       "    <tr>\n",
       "      <th>0</th>\n",
       "      <td>0</td>\n",
       "      <td>Lenovo Ideapad Gaming 3 Ryzen 5 Hexa Core 5600...</td>\n",
       "      <td>Best under 60k Great performanceI got it for a...</td>\n",
       "      <td>5</td>\n",
       "    </tr>\n",
       "    <tr>\n",
       "      <th>1</th>\n",
       "      <td>1</td>\n",
       "      <td>Lenovo Ideapad Gaming 3 Ryzen 5 Hexa Core 5600...</td>\n",
       "      <td>Good perfomence...</td>\n",
       "      <td>5</td>\n",
       "    </tr>\n",
       "    <tr>\n",
       "      <th>2</th>\n",
       "      <td>2</td>\n",
       "      <td>Lenovo Ideapad Gaming 3 Ryzen 5 Hexa Core 5600...</td>\n",
       "      <td>Great performance but usually it has also that...</td>\n",
       "      <td>5</td>\n",
       "    </tr>\n",
       "    <tr>\n",
       "      <th>3</th>\n",
       "      <td>3</td>\n",
       "      <td>DELL Inspiron Athlon Dual Core 3050U - (4 GB/2...</td>\n",
       "      <td>My wife is so happy and best product</td>\n",
       "      <td>5</td>\n",
       "    </tr>\n",
       "    <tr>\n",
       "      <th>4</th>\n",
       "      <td>4</td>\n",
       "      <td>DELL Inspiron Athlon Dual Core 3050U - (4 GB/2...</td>\n",
       "      <td>Light weight laptop with new amazing features,...</td>\n",
       "      <td>5</td>\n",
       "    </tr>\n",
       "    <tr>\n",
       "      <th>5</th>\n",
       "      <td>5</td>\n",
       "      <td>DELL Inspiron Athlon Dual Core 3050U - (4 GB/2...</td>\n",
       "      <td>Amazing laptop, am so much happy, thanks for F...</td>\n",
       "      <td>5</td>\n",
       "    </tr>\n",
       "    <tr>\n",
       "      <th>6</th>\n",
       "      <td>6</td>\n",
       "      <td>DELL Inspiron Athlon Dual Core 3050U - (4 GB/2...</td>\n",
       "      <td>Over all a good laptop for personal use</td>\n",
       "      <td>5</td>\n",
       "    </tr>\n",
       "    <tr>\n",
       "      <th>7</th>\n",
       "      <td>7</td>\n",
       "      <td>DELL Inspiron Athlon Dual Core 3050U - (4 GB/2...</td>\n",
       "      <td>Thank you so much Flipkart</td>\n",
       "      <td>4</td>\n",
       "    </tr>\n",
       "    <tr>\n",
       "      <th>8</th>\n",
       "      <td>8</td>\n",
       "      <td>DELL Inspiron Athlon Dual Core 3050U - (4 GB/2...</td>\n",
       "      <td>Amazing product</td>\n",
       "      <td>5</td>\n",
       "    </tr>\n",
       "    <tr>\n",
       "      <th>9</th>\n",
       "      <td>9</td>\n",
       "      <td>DELL Inspiron Athlon Dual Core 3050U - (4 GB/2...</td>\n",
       "      <td>Good for normal work , students, online classe...</td>\n",
       "      <td>3</td>\n",
       "    </tr>\n",
       "    <tr>\n",
       "      <th>10</th>\n",
       "      <td>10</td>\n",
       "      <td>DELL Inspiron Athlon Dual Core 3050U - (4 GB/2...</td>\n",
       "      <td>Laptop received was in good packaging and good...</td>\n",
       "      <td>5</td>\n",
       "    </tr>\n",
       "    <tr>\n",
       "      <th>11</th>\n",
       "      <td>11</td>\n",
       "      <td>DELL Inspiron Athlon Dual Core 3050U - (4 GB/2...</td>\n",
       "      <td>Very nice</td>\n",
       "      <td>5</td>\n",
       "    </tr>\n",
       "    <tr>\n",
       "      <th>12</th>\n",
       "      <td>12</td>\n",
       "      <td>DELL Inspiron Athlon Dual Core 3050U - (4 GB/2...</td>\n",
       "      <td>Good product but dilevary slow</td>\n",
       "      <td>4</td>\n",
       "    </tr>\n",
       "    <tr>\n",
       "      <th>13</th>\n",
       "      <td>13</td>\n",
       "      <td>ASUS VivoBook 15 (2021) Core i3 10th Gen - (8 ...</td>\n",
       "      <td>If you can affort few thousands extra you can ...</td>\n",
       "      <td>2</td>\n",
       "    </tr>\n",
       "    <tr>\n",
       "      <th>14</th>\n",
       "      <td>14</td>\n",
       "      <td>ASUS VivoBook 15 (2021) Core i3 10th Gen - (8 ...</td>\n",
       "      <td>Good</td>\n",
       "      <td>5</td>\n",
       "    </tr>\n",
       "    <tr>\n",
       "      <th>15</th>\n",
       "      <td>15</td>\n",
       "      <td>ASUS VivoBook 15 (2021) Core i3 10th Gen - (8 ...</td>\n",
       "      <td>All good but battery backup not good enough</td>\n",
       "      <td>3</td>\n",
       "    </tr>\n",
       "    <tr>\n",
       "      <th>16</th>\n",
       "      <td>16</td>\n",
       "      <td>ASUS VivoBook 15 (2021) Core i3 10th Gen - (8 ...</td>\n",
       "      <td>I'll update this review again after a month us...</td>\n",
       "      <td>5</td>\n",
       "    </tr>\n",
       "    <tr>\n",
       "      <th>17</th>\n",
       "      <td>17</td>\n",
       "      <td>ASUS VivoBook 15 (2021) Core i3 10th Gen - (8 ...</td>\n",
       "      <td>I love it ....</td>\n",
       "      <td>5</td>\n",
       "    </tr>\n",
       "    <tr>\n",
       "      <th>18</th>\n",
       "      <td>18</td>\n",
       "      <td>ASUS VivoBook 15 (2021) Core i3 10th Gen - (8 ...</td>\n",
       "      <td>Good</td>\n",
       "      <td>4</td>\n",
       "    </tr>\n",
       "    <tr>\n",
       "      <th>19</th>\n",
       "      <td>19</td>\n",
       "      <td>ASUS VivoBook 15 (2021) Core i3 10th Gen - (8 ...</td>\n",
       "      <td>Best Laptop   in the segment. Classy performan...</td>\n",
       "      <td>4</td>\n",
       "    </tr>\n",
       "  </tbody>\n",
       "</table>\n",
       "</div>"
      ],
      "text/plain": [
       "    Unnamed: 0                                       Product_name  \\\n",
       "0            0  Lenovo Ideapad Gaming 3 Ryzen 5 Hexa Core 5600...   \n",
       "1            1  Lenovo Ideapad Gaming 3 Ryzen 5 Hexa Core 5600...   \n",
       "2            2  Lenovo Ideapad Gaming 3 Ryzen 5 Hexa Core 5600...   \n",
       "3            3  DELL Inspiron Athlon Dual Core 3050U - (4 GB/2...   \n",
       "4            4  DELL Inspiron Athlon Dual Core 3050U - (4 GB/2...   \n",
       "5            5  DELL Inspiron Athlon Dual Core 3050U - (4 GB/2...   \n",
       "6            6  DELL Inspiron Athlon Dual Core 3050U - (4 GB/2...   \n",
       "7            7  DELL Inspiron Athlon Dual Core 3050U - (4 GB/2...   \n",
       "8            8  DELL Inspiron Athlon Dual Core 3050U - (4 GB/2...   \n",
       "9            9  DELL Inspiron Athlon Dual Core 3050U - (4 GB/2...   \n",
       "10          10  DELL Inspiron Athlon Dual Core 3050U - (4 GB/2...   \n",
       "11          11  DELL Inspiron Athlon Dual Core 3050U - (4 GB/2...   \n",
       "12          12  DELL Inspiron Athlon Dual Core 3050U - (4 GB/2...   \n",
       "13          13  ASUS VivoBook 15 (2021) Core i3 10th Gen - (8 ...   \n",
       "14          14  ASUS VivoBook 15 (2021) Core i3 10th Gen - (8 ...   \n",
       "15          15  ASUS VivoBook 15 (2021) Core i3 10th Gen - (8 ...   \n",
       "16          16  ASUS VivoBook 15 (2021) Core i3 10th Gen - (8 ...   \n",
       "17          17  ASUS VivoBook 15 (2021) Core i3 10th Gen - (8 ...   \n",
       "18          18  ASUS VivoBook 15 (2021) Core i3 10th Gen - (8 ...   \n",
       "19          19  ASUS VivoBook 15 (2021) Core i3 10th Gen - (8 ...   \n",
       "\n",
       "                                               Review  Rating  \n",
       "0   Best under 60k Great performanceI got it for a...       5  \n",
       "1                                  Good perfomence...       5  \n",
       "2   Great performance but usually it has also that...       5  \n",
       "3               My wife is so happy and best product        5  \n",
       "4   Light weight laptop with new amazing features,...       5  \n",
       "5   Amazing laptop, am so much happy, thanks for F...       5  \n",
       "6             Over all a good laptop for personal use       5  \n",
       "7                          Thank you so much Flipkart       4  \n",
       "8                                     Amazing product       5  \n",
       "9   Good for normal work , students, online classe...       3  \n",
       "10  Laptop received was in good packaging and good...       5  \n",
       "11                                          Very nice       5  \n",
       "12                     Good product but dilevary slow       4  \n",
       "13  If you can affort few thousands extra you can ...       2  \n",
       "14                                               Good       5  \n",
       "15        All good but battery backup not good enough       3  \n",
       "16  I'll update this review again after a month us...       5  \n",
       "17                                     I love it ....       5  \n",
       "18                                               Good       4  \n",
       "19  Best Laptop   in the segment. Classy performan...       4  "
      ]
     },
     "execution_count": 14,
     "metadata": {},
     "output_type": "execute_result"
    }
   ],
   "source": [
    "flipk.head(20)"
   ]
  },
  {
   "cell_type": "code",
   "execution_count": 15,
   "id": "0f36be25",
   "metadata": {},
   "outputs": [],
   "source": [
    "flipk = flipk.iloc[:,[-2,-1]]"
   ]
  },
  {
   "cell_type": "code",
   "execution_count": 16,
   "id": "f9dbd1d4",
   "metadata": {
    "scrolled": true
   },
   "outputs": [
    {
     "data": {
      "text/html": [
       "<div>\n",
       "<style scoped>\n",
       "    .dataframe tbody tr th:only-of-type {\n",
       "        vertical-align: middle;\n",
       "    }\n",
       "\n",
       "    .dataframe tbody tr th {\n",
       "        vertical-align: top;\n",
       "    }\n",
       "\n",
       "    .dataframe thead th {\n",
       "        text-align: right;\n",
       "    }\n",
       "</style>\n",
       "<table border=\"1\" class=\"dataframe\">\n",
       "  <thead>\n",
       "    <tr style=\"text-align: right;\">\n",
       "      <th></th>\n",
       "      <th>Review</th>\n",
       "      <th>Rating</th>\n",
       "    </tr>\n",
       "  </thead>\n",
       "  <tbody>\n",
       "    <tr>\n",
       "      <th>0</th>\n",
       "      <td>Best under 60k Great performanceI got it for a...</td>\n",
       "      <td>5</td>\n",
       "    </tr>\n",
       "    <tr>\n",
       "      <th>1</th>\n",
       "      <td>Good perfomence...</td>\n",
       "      <td>5</td>\n",
       "    </tr>\n",
       "    <tr>\n",
       "      <th>2</th>\n",
       "      <td>Great performance but usually it has also that...</td>\n",
       "      <td>5</td>\n",
       "    </tr>\n",
       "    <tr>\n",
       "      <th>3</th>\n",
       "      <td>My wife is so happy and best product</td>\n",
       "      <td>5</td>\n",
       "    </tr>\n",
       "    <tr>\n",
       "      <th>4</th>\n",
       "      <td>Light weight laptop with new amazing features,...</td>\n",
       "      <td>5</td>\n",
       "    </tr>\n",
       "    <tr>\n",
       "      <th>5</th>\n",
       "      <td>Amazing laptop, am so much happy, thanks for F...</td>\n",
       "      <td>5</td>\n",
       "    </tr>\n",
       "    <tr>\n",
       "      <th>6</th>\n",
       "      <td>Over all a good laptop for personal use</td>\n",
       "      <td>5</td>\n",
       "    </tr>\n",
       "    <tr>\n",
       "      <th>7</th>\n",
       "      <td>Thank you so much Flipkart</td>\n",
       "      <td>4</td>\n",
       "    </tr>\n",
       "    <tr>\n",
       "      <th>8</th>\n",
       "      <td>Amazing product</td>\n",
       "      <td>5</td>\n",
       "    </tr>\n",
       "    <tr>\n",
       "      <th>9</th>\n",
       "      <td>Good for normal work , students, online classe...</td>\n",
       "      <td>3</td>\n",
       "    </tr>\n",
       "  </tbody>\n",
       "</table>\n",
       "</div>"
      ],
      "text/plain": [
       "                                              Review  Rating\n",
       "0  Best under 60k Great performanceI got it for a...       5\n",
       "1                                 Good perfomence...       5\n",
       "2  Great performance but usually it has also that...       5\n",
       "3              My wife is so happy and best product        5\n",
       "4  Light weight laptop with new amazing features,...       5\n",
       "5  Amazing laptop, am so much happy, thanks for F...       5\n",
       "6            Over all a good laptop for personal use       5\n",
       "7                         Thank you so much Flipkart       4\n",
       "8                                    Amazing product       5\n",
       "9  Good for normal work , students, online classe...       3"
      ]
     },
     "execution_count": 16,
     "metadata": {},
     "output_type": "execute_result"
    }
   ],
   "source": [
    "flipk.head(10)"
   ]
  },
  {
   "cell_type": "code",
   "execution_count": 17,
   "id": "e97411b5",
   "metadata": {},
   "outputs": [
    {
     "data": {
      "text/plain": [
       "(2304, 2)"
      ]
     },
     "execution_count": 17,
     "metadata": {},
     "output_type": "execute_result"
    }
   ],
   "source": [
    "flipk.shape"
   ]
  },
  {
   "cell_type": "code",
   "execution_count": 18,
   "id": "801dde0e",
   "metadata": {},
   "outputs": [
    {
     "data": {
      "text/plain": [
       "Review    0\n",
       "Rating    0\n",
       "dtype: int64"
      ]
     },
     "execution_count": 18,
     "metadata": {},
     "output_type": "execute_result"
    }
   ],
   "source": [
    "flipk.isnull().sum()"
   ]
  },
  {
   "cell_type": "code",
   "execution_count": 19,
   "id": "b6ac0d42",
   "metadata": {},
   "outputs": [
    {
     "name": "stdout",
     "output_type": "stream",
     "text": [
      "<class 'pandas.core.frame.DataFrame'>\n",
      "RangeIndex: 2304 entries, 0 to 2303\n",
      "Data columns (total 2 columns):\n",
      " #   Column  Non-Null Count  Dtype \n",
      "---  ------  --------------  ----- \n",
      " 0   Review  2304 non-null   object\n",
      " 1   Rating  2304 non-null   int64 \n",
      "dtypes: int64(1), object(1)\n",
      "memory usage: 36.1+ KB\n"
     ]
    }
   ],
   "source": [
    "flipk.info()"
   ]
  },
  {
   "cell_type": "code",
   "execution_count": 20,
   "id": "5b306e1b",
   "metadata": {},
   "outputs": [
    {
     "data": {
      "text/plain": [
       "Rating\n",
       "5    1382\n",
       "4     552\n",
       "1     184\n",
       "3     140\n",
       "2      46\n",
       "Name: count, dtype: int64"
      ]
     },
     "execution_count": 20,
     "metadata": {},
     "output_type": "execute_result"
    }
   ],
   "source": [
    "flipk.Rating.value_counts()"
   ]
  },
  {
   "cell_type": "code",
   "execution_count": 21,
   "id": "45c95f1c",
   "metadata": {},
   "outputs": [],
   "source": [
    "# Ratings reading:\n",
    "# 1 = dissatisfied, 2 = neutral, 3 = satisfied"
   ]
  },
  {
   "cell_type": "code",
   "execution_count": 22,
   "id": "e3cf7a33",
   "metadata": {},
   "outputs": [],
   "source": [
    "flipk.Rating.replace({2:1,3:2,4:2,5:3}, inplace=True)"
   ]
  },
  {
   "cell_type": "code",
   "execution_count": 23,
   "id": "3370be40",
   "metadata": {
    "scrolled": false
   },
   "outputs": [
    {
     "data": {
      "text/plain": [
       "Rating\n",
       "3    1382\n",
       "2     692\n",
       "1     230\n",
       "Name: count, dtype: int64"
      ]
     },
     "execution_count": 23,
     "metadata": {},
     "output_type": "execute_result"
    }
   ],
   "source": [
    "flipk.Rating.value_counts()"
   ]
  },
  {
   "cell_type": "code",
   "execution_count": 24,
   "id": "f684116f",
   "metadata": {},
   "outputs": [],
   "source": [
    "flipk.Review = flipk.Review.str.lower()                 # to ensure case uniformity "
   ]
  },
  {
   "cell_type": "code",
   "execution_count": 25,
   "id": "944c2aa8",
   "metadata": {},
   "outputs": [
    {
     "data": {
      "text/html": [
       "<div>\n",
       "<style scoped>\n",
       "    .dataframe tbody tr th:only-of-type {\n",
       "        vertical-align: middle;\n",
       "    }\n",
       "\n",
       "    .dataframe tbody tr th {\n",
       "        vertical-align: top;\n",
       "    }\n",
       "\n",
       "    .dataframe thead th {\n",
       "        text-align: right;\n",
       "    }\n",
       "</style>\n",
       "<table border=\"1\" class=\"dataframe\">\n",
       "  <thead>\n",
       "    <tr style=\"text-align: right;\">\n",
       "      <th></th>\n",
       "      <th>Review</th>\n",
       "      <th>Rating</th>\n",
       "    </tr>\n",
       "  </thead>\n",
       "  <tbody>\n",
       "    <tr>\n",
       "      <th>0</th>\n",
       "      <td>best under 60k great performancei got it for a...</td>\n",
       "      <td>3</td>\n",
       "    </tr>\n",
       "    <tr>\n",
       "      <th>1</th>\n",
       "      <td>good perfomence...</td>\n",
       "      <td>3</td>\n",
       "    </tr>\n",
       "    <tr>\n",
       "      <th>2</th>\n",
       "      <td>great performance but usually it has also that...</td>\n",
       "      <td>3</td>\n",
       "    </tr>\n",
       "    <tr>\n",
       "      <th>3</th>\n",
       "      <td>my wife is so happy and best product</td>\n",
       "      <td>3</td>\n",
       "    </tr>\n",
       "    <tr>\n",
       "      <th>4</th>\n",
       "      <td>light weight laptop with new amazing features,...</td>\n",
       "      <td>3</td>\n",
       "    </tr>\n",
       "    <tr>\n",
       "      <th>5</th>\n",
       "      <td>amazing laptop, am so much happy, thanks for f...</td>\n",
       "      <td>3</td>\n",
       "    </tr>\n",
       "    <tr>\n",
       "      <th>6</th>\n",
       "      <td>over all a good laptop for personal use</td>\n",
       "      <td>3</td>\n",
       "    </tr>\n",
       "    <tr>\n",
       "      <th>7</th>\n",
       "      <td>thank you so much flipkart</td>\n",
       "      <td>2</td>\n",
       "    </tr>\n",
       "    <tr>\n",
       "      <th>8</th>\n",
       "      <td>amazing product</td>\n",
       "      <td>3</td>\n",
       "    </tr>\n",
       "    <tr>\n",
       "      <th>9</th>\n",
       "      <td>good for normal work , students, online classe...</td>\n",
       "      <td>2</td>\n",
       "    </tr>\n",
       "  </tbody>\n",
       "</table>\n",
       "</div>"
      ],
      "text/plain": [
       "                                              Review  Rating\n",
       "0  best under 60k great performancei got it for a...       3\n",
       "1                                 good perfomence...       3\n",
       "2  great performance but usually it has also that...       3\n",
       "3              my wife is so happy and best product        3\n",
       "4  light weight laptop with new amazing features,...       3\n",
       "5  amazing laptop, am so much happy, thanks for f...       3\n",
       "6            over all a good laptop for personal use       3\n",
       "7                         thank you so much flipkart       2\n",
       "8                                    amazing product       3\n",
       "9  good for normal work , students, online classe...       2"
      ]
     },
     "execution_count": 25,
     "metadata": {},
     "output_type": "execute_result"
    }
   ],
   "source": [
    "flipk.head(10)"
   ]
  },
  {
   "cell_type": "code",
   "execution_count": 26,
   "id": "bed4c48f",
   "metadata": {},
   "outputs": [],
   "source": [
    "# data is cleaned now."
   ]
  },
  {
   "cell_type": "code",
   "execution_count": 27,
   "id": "eade3a3b",
   "metadata": {},
   "outputs": [],
   "source": [
    "# Preparing data for NLP -- removing punctuations and stopwords first"
   ]
  },
  {
   "cell_type": "code",
   "execution_count": 28,
   "id": "c92e822b",
   "metadata": {},
   "outputs": [],
   "source": [
    "from nltk.corpus import stopwords"
   ]
  },
  {
   "cell_type": "code",
   "execution_count": 29,
   "id": "24629e1d",
   "metadata": {},
   "outputs": [],
   "source": [
    "def text_process(review):\n",
    "    no_punc = [char for char in review if char not in string.punctuation]\n",
    "    no_punc = ''.join(no_punc)\n",
    "    return [word for word in no_punc if word not in stopwords.words('english')]"
   ]
  },
  {
   "cell_type": "code",
   "execution_count": 30,
   "id": "b5b6dc75",
   "metadata": {},
   "outputs": [],
   "source": [
    "from sklearn.feature_extraction.text import CountVectorizer"
   ]
  },
  {
   "cell_type": "code",
   "execution_count": 31,
   "id": "45d9553e",
   "metadata": {},
   "outputs": [],
   "source": [
    "cv = CountVectorizer(analyzer = text_process).fit(flipk['Review'])   #tokenization of each unique word"
   ]
  },
  {
   "cell_type": "code",
   "execution_count": 32,
   "id": "7af6ceba",
   "metadata": {},
   "outputs": [],
   "source": [
    "after_trans = cv.transform(flipk['Review'])    #transforming into TDM (Term Document Matrix)"
   ]
  },
  {
   "cell_type": "code",
   "execution_count": 33,
   "id": "14807e35",
   "metadata": {},
   "outputs": [
    {
     "data": {
      "text/plain": [
       "2304"
      ]
     },
     "execution_count": 33,
     "metadata": {},
     "output_type": "execute_result"
    }
   ],
   "source": [
    "after_trans.shape[0]"
   ]
  },
  {
   "cell_type": "code",
   "execution_count": 34,
   "id": "f90741ae",
   "metadata": {},
   "outputs": [],
   "source": [
    "# Sampling "
   ]
  },
  {
   "cell_type": "code",
   "execution_count": 35,
   "id": "72fa0afb",
   "metadata": {},
   "outputs": [],
   "source": [
    "from sklearn.model_selection import train_test_split"
   ]
  },
  {
   "cell_type": "code",
   "execution_count": 36,
   "id": "4dd8cfd9",
   "metadata": {},
   "outputs": [],
   "source": [
    "train_x, test_x, train_y, test_y = train_test_split(after_trans, flipk.Rating)"
   ]
  },
  {
   "cell_type": "code",
   "execution_count": 37,
   "id": "7814d0de",
   "metadata": {},
   "outputs": [],
   "source": [
    "from sklearn.metrics import confusion_matrix\n",
    "from sklearn.metrics import accuracy_score"
   ]
  },
  {
   "cell_type": "code",
   "execution_count": null,
   "id": "33709407",
   "metadata": {},
   "outputs": [],
   "source": []
  },
  {
   "cell_type": "code",
   "execution_count": 38,
   "id": "2d269ec0",
   "metadata": {},
   "outputs": [],
   "source": [
    "# Model Building.. NB works well with NLP. Checking with various algorithms for best results.."
   ]
  },
  {
   "cell_type": "code",
   "execution_count": 39,
   "id": "5433d02e",
   "metadata": {},
   "outputs": [],
   "source": [
    "# With Naive Bayes (NB):"
   ]
  },
  {
   "cell_type": "code",
   "execution_count": 40,
   "id": "0dce9f58",
   "metadata": {},
   "outputs": [],
   "source": [
    "from sklearn.naive_bayes import MultinomialNB"
   ]
  },
  {
   "cell_type": "code",
   "execution_count": 41,
   "id": "c5fbebd9",
   "metadata": {},
   "outputs": [],
   "source": [
    "nb = MultinomialNB()"
   ]
  },
  {
   "cell_type": "code",
   "execution_count": 42,
   "id": "d3942d03",
   "metadata": {},
   "outputs": [
    {
     "data": {
      "text/html": [
       "<style>#sk-container-id-1 {color: black;}#sk-container-id-1 pre{padding: 0;}#sk-container-id-1 div.sk-toggleable {background-color: white;}#sk-container-id-1 label.sk-toggleable__label {cursor: pointer;display: block;width: 100%;margin-bottom: 0;padding: 0.3em;box-sizing: border-box;text-align: center;}#sk-container-id-1 label.sk-toggleable__label-arrow:before {content: \"▸\";float: left;margin-right: 0.25em;color: #696969;}#sk-container-id-1 label.sk-toggleable__label-arrow:hover:before {color: black;}#sk-container-id-1 div.sk-estimator:hover label.sk-toggleable__label-arrow:before {color: black;}#sk-container-id-1 div.sk-toggleable__content {max-height: 0;max-width: 0;overflow: hidden;text-align: left;background-color: #f0f8ff;}#sk-container-id-1 div.sk-toggleable__content pre {margin: 0.2em;color: black;border-radius: 0.25em;background-color: #f0f8ff;}#sk-container-id-1 input.sk-toggleable__control:checked~div.sk-toggleable__content {max-height: 200px;max-width: 100%;overflow: auto;}#sk-container-id-1 input.sk-toggleable__control:checked~label.sk-toggleable__label-arrow:before {content: \"▾\";}#sk-container-id-1 div.sk-estimator input.sk-toggleable__control:checked~label.sk-toggleable__label {background-color: #d4ebff;}#sk-container-id-1 div.sk-label input.sk-toggleable__control:checked~label.sk-toggleable__label {background-color: #d4ebff;}#sk-container-id-1 input.sk-hidden--visually {border: 0;clip: rect(1px 1px 1px 1px);clip: rect(1px, 1px, 1px, 1px);height: 1px;margin: -1px;overflow: hidden;padding: 0;position: absolute;width: 1px;}#sk-container-id-1 div.sk-estimator {font-family: monospace;background-color: #f0f8ff;border: 1px dotted black;border-radius: 0.25em;box-sizing: border-box;margin-bottom: 0.5em;}#sk-container-id-1 div.sk-estimator:hover {background-color: #d4ebff;}#sk-container-id-1 div.sk-parallel-item::after {content: \"\";width: 100%;border-bottom: 1px solid gray;flex-grow: 1;}#sk-container-id-1 div.sk-label:hover label.sk-toggleable__label {background-color: #d4ebff;}#sk-container-id-1 div.sk-serial::before {content: \"\";position: absolute;border-left: 1px solid gray;box-sizing: border-box;top: 0;bottom: 0;left: 50%;z-index: 0;}#sk-container-id-1 div.sk-serial {display: flex;flex-direction: column;align-items: center;background-color: white;padding-right: 0.2em;padding-left: 0.2em;position: relative;}#sk-container-id-1 div.sk-item {position: relative;z-index: 1;}#sk-container-id-1 div.sk-parallel {display: flex;align-items: stretch;justify-content: center;background-color: white;position: relative;}#sk-container-id-1 div.sk-item::before, #sk-container-id-1 div.sk-parallel-item::before {content: \"\";position: absolute;border-left: 1px solid gray;box-sizing: border-box;top: 0;bottom: 0;left: 50%;z-index: -1;}#sk-container-id-1 div.sk-parallel-item {display: flex;flex-direction: column;z-index: 1;position: relative;background-color: white;}#sk-container-id-1 div.sk-parallel-item:first-child::after {align-self: flex-end;width: 50%;}#sk-container-id-1 div.sk-parallel-item:last-child::after {align-self: flex-start;width: 50%;}#sk-container-id-1 div.sk-parallel-item:only-child::after {width: 0;}#sk-container-id-1 div.sk-dashed-wrapped {border: 1px dashed gray;margin: 0 0.4em 0.5em 0.4em;box-sizing: border-box;padding-bottom: 0.4em;background-color: white;}#sk-container-id-1 div.sk-label label {font-family: monospace;font-weight: bold;display: inline-block;line-height: 1.2em;}#sk-container-id-1 div.sk-label-container {text-align: center;}#sk-container-id-1 div.sk-container {/* jupyter's `normalize.less` sets `[hidden] { display: none; }` but bootstrap.min.css set `[hidden] { display: none !important; }` so we also need the `!important` here to be able to override the default hidden behavior on the sphinx rendered scikit-learn.org. See: https://github.com/scikit-learn/scikit-learn/issues/21755 */display: inline-block !important;position: relative;}#sk-container-id-1 div.sk-text-repr-fallback {display: none;}</style><div id=\"sk-container-id-1\" class=\"sk-top-container\"><div class=\"sk-text-repr-fallback\"><pre>MultinomialNB()</pre><b>In a Jupyter environment, please rerun this cell to show the HTML representation or trust the notebook. <br />On GitHub, the HTML representation is unable to render, please try loading this page with nbviewer.org.</b></div><div class=\"sk-container\" hidden><div class=\"sk-item\"><div class=\"sk-estimator sk-toggleable\"><input class=\"sk-toggleable__control sk-hidden--visually\" id=\"sk-estimator-id-1\" type=\"checkbox\" checked><label for=\"sk-estimator-id-1\" class=\"sk-toggleable__label sk-toggleable__label-arrow\">MultinomialNB</label><div class=\"sk-toggleable__content\"><pre>MultinomialNB()</pre></div></div></div></div></div>"
      ],
      "text/plain": [
       "MultinomialNB()"
      ]
     },
     "execution_count": 42,
     "metadata": {},
     "output_type": "execute_result"
    }
   ],
   "source": [
    "nb.fit(train_x, train_y)"
   ]
  },
  {
   "cell_type": "code",
   "execution_count": 43,
   "id": "833ec03b",
   "metadata": {},
   "outputs": [
    {
     "data": {
      "text/plain": [
       "array([3, 3, 3, 3, 2, 3, 3, 3, 3, 3, 3, 3, 3, 3, 3, 1, 3, 3, 3, 3, 3, 3,\n",
       "       3, 3, 3, 3, 3, 3, 3, 3, 3, 3, 3, 3, 3, 3, 3, 3, 3, 3, 3, 3, 3, 3,\n",
       "       3, 3, 3, 3, 3, 3, 3, 3, 3, 3, 3, 3, 3, 3, 3, 3, 3, 3, 3, 2, 3, 3,\n",
       "       3, 3, 3, 3, 3, 3, 3, 3, 3, 3, 3, 3, 3, 3, 2, 3, 3, 3, 3, 3, 3, 3,\n",
       "       3, 3, 3, 3, 3, 3, 3, 3, 3, 3, 3, 3, 1, 3, 3, 2, 3, 3, 3, 3, 3, 3,\n",
       "       3, 3, 2, 3, 3, 3, 3, 2, 3, 3, 1, 3, 3, 3, 3, 2, 3, 3, 3, 3, 3, 3,\n",
       "       3, 2, 2, 3, 3, 3, 3, 2, 3, 3, 3, 2, 3, 3, 3, 3, 3, 3, 3, 3, 3, 3,\n",
       "       2, 3, 3, 3, 3, 3, 3, 3, 3, 3, 3, 3, 2, 3, 3, 3, 2, 3, 2, 3, 2, 3,\n",
       "       3, 3, 2, 2, 2, 3, 3, 3, 3, 3, 3, 3, 3, 3, 3, 3, 3, 3, 2, 3, 3, 3,\n",
       "       3, 3, 3, 3, 2, 3, 3, 3, 3, 3, 3, 3, 3, 3, 3, 2, 3, 3, 3, 3, 3, 3,\n",
       "       3, 3, 3, 2, 3, 3, 3, 3, 3, 3, 3, 3, 3, 3, 3, 3, 3, 3, 3, 3, 3, 3,\n",
       "       3, 3, 3, 3, 3, 3, 3, 3, 3, 3, 3, 3, 3, 3, 3, 3, 3, 3, 3, 3, 3, 3,\n",
       "       3, 3, 2, 3, 3, 3, 2, 3, 3, 3, 3, 3, 3, 3, 3, 3, 3, 3, 3, 3, 3, 3,\n",
       "       3, 3, 3, 3, 3, 2, 3, 3, 3, 3, 3, 3, 3, 3, 3, 3, 3, 3, 3, 3, 3, 3,\n",
       "       3, 2, 2, 3, 3, 3, 3, 3, 3, 3, 3, 3, 3, 3, 3, 3, 2, 3, 3, 1, 1, 3,\n",
       "       3, 3, 3, 3, 3, 3, 2, 3, 3, 3, 3, 3, 3, 3, 3, 3, 3, 3, 3, 3, 3, 3,\n",
       "       3, 2, 3, 2, 3, 3, 3, 3, 3, 3, 3, 3, 3, 3, 3, 3, 3, 3, 3, 3, 3, 3,\n",
       "       3, 3, 3, 3, 2, 3, 3, 3, 3, 3, 3, 3, 2, 3, 3, 3, 2, 3, 3, 3, 3, 3,\n",
       "       3, 3, 3, 3, 3, 3, 3, 3, 3, 3, 3, 3, 3, 3, 3, 3, 3, 3, 3, 3, 3, 3,\n",
       "       3, 3, 3, 3, 3, 3, 3, 3, 3, 3, 3, 2, 3, 3, 2, 3, 3, 3, 3, 3, 3, 2,\n",
       "       3, 3, 2, 3, 3, 2, 1, 3, 3, 3, 3, 3, 3, 3, 2, 2, 3, 3, 3, 3, 1, 2,\n",
       "       3, 3, 3, 3, 3, 3, 3, 3, 3, 3, 3, 3, 3, 3, 3, 3, 3, 3, 3, 3, 2, 3,\n",
       "       3, 3, 2, 3, 3, 3, 3, 3, 3, 3, 1, 2, 3, 3, 3, 2, 3, 3, 3, 3, 3, 3,\n",
       "       3, 2, 3, 3, 1, 3, 3, 3, 3, 2, 3, 3, 3, 3, 3, 3, 3, 3, 3, 3, 3, 3,\n",
       "       3, 3, 3, 3, 3, 1, 1, 3, 2, 3, 3, 3, 3, 3, 3, 3, 3, 3, 3, 3, 3, 3,\n",
       "       3, 3, 3, 3, 3, 3, 3, 3, 3, 3, 3, 3, 3, 3, 3, 3, 3, 3, 1, 3, 3, 3,\n",
       "       3, 3, 3, 3], dtype=int64)"
      ]
     },
     "execution_count": 43,
     "metadata": {},
     "output_type": "execute_result"
    }
   ],
   "source": [
    "pred = nb.predict(test_x)\n",
    "pred"
   ]
  },
  {
   "cell_type": "code",
   "execution_count": 44,
   "id": "d86fb975",
   "metadata": {
    "scrolled": true
   },
   "outputs": [
    {
     "data": {
      "text/plain": [
       "array([[  4,   2,  47],\n",
       "       [  4,  20, 160],\n",
       "       [  4,  28, 307]], dtype=int64)"
      ]
     },
     "execution_count": 44,
     "metadata": {},
     "output_type": "execute_result"
    }
   ],
   "source": [
    "confusion_matrix(test_y, pred)           # poor performance for class 0 & 1"
   ]
  },
  {
   "cell_type": "code",
   "execution_count": 45,
   "id": "08b0e1cd",
   "metadata": {},
   "outputs": [],
   "source": [
    "#old confusion matrix for NB before making changes with Ratings card.\n",
    "\n",
    "#array([[  1,   0,   3,   8,  35],\n",
    "#       [  0,   0,   0,   0,   9],\n",
    "#       [  0,   0,   4,   8,  23],\n",
    "#       [  1,   0,   4,  31,  90],\n",
    "#       [  1,   1,  21,  42, 294]], dtype=int64)"
   ]
  },
  {
   "cell_type": "code",
   "execution_count": 46,
   "id": "5aba3b46",
   "metadata": {},
   "outputs": [
    {
     "data": {
      "text/plain": [
       "57.46527777777778"
      ]
     },
     "execution_count": 46,
     "metadata": {},
     "output_type": "execute_result"
    }
   ],
   "source": [
    "accuracy_score(test_y, pred)*100"
   ]
  },
  {
   "cell_type": "code",
   "execution_count": null,
   "id": "fd61d880",
   "metadata": {},
   "outputs": [],
   "source": []
  },
  {
   "cell_type": "code",
   "execution_count": 47,
   "id": "a7f7cd64",
   "metadata": {},
   "outputs": [],
   "source": [
    "# Using Support Vector Machine (SVM):"
   ]
  },
  {
   "cell_type": "code",
   "execution_count": 48,
   "id": "75121c63",
   "metadata": {},
   "outputs": [],
   "source": [
    "from sklearn.svm import SVC"
   ]
  },
  {
   "cell_type": "code",
   "execution_count": 49,
   "id": "8c2fcddc",
   "metadata": {},
   "outputs": [],
   "source": [
    "svm = SVC()"
   ]
  },
  {
   "cell_type": "code",
   "execution_count": 50,
   "id": "0a46ea59",
   "metadata": {},
   "outputs": [
    {
     "data": {
      "text/html": [
       "<style>#sk-container-id-2 {color: black;}#sk-container-id-2 pre{padding: 0;}#sk-container-id-2 div.sk-toggleable {background-color: white;}#sk-container-id-2 label.sk-toggleable__label {cursor: pointer;display: block;width: 100%;margin-bottom: 0;padding: 0.3em;box-sizing: border-box;text-align: center;}#sk-container-id-2 label.sk-toggleable__label-arrow:before {content: \"▸\";float: left;margin-right: 0.25em;color: #696969;}#sk-container-id-2 label.sk-toggleable__label-arrow:hover:before {color: black;}#sk-container-id-2 div.sk-estimator:hover label.sk-toggleable__label-arrow:before {color: black;}#sk-container-id-2 div.sk-toggleable__content {max-height: 0;max-width: 0;overflow: hidden;text-align: left;background-color: #f0f8ff;}#sk-container-id-2 div.sk-toggleable__content pre {margin: 0.2em;color: black;border-radius: 0.25em;background-color: #f0f8ff;}#sk-container-id-2 input.sk-toggleable__control:checked~div.sk-toggleable__content {max-height: 200px;max-width: 100%;overflow: auto;}#sk-container-id-2 input.sk-toggleable__control:checked~label.sk-toggleable__label-arrow:before {content: \"▾\";}#sk-container-id-2 div.sk-estimator input.sk-toggleable__control:checked~label.sk-toggleable__label {background-color: #d4ebff;}#sk-container-id-2 div.sk-label input.sk-toggleable__control:checked~label.sk-toggleable__label {background-color: #d4ebff;}#sk-container-id-2 input.sk-hidden--visually {border: 0;clip: rect(1px 1px 1px 1px);clip: rect(1px, 1px, 1px, 1px);height: 1px;margin: -1px;overflow: hidden;padding: 0;position: absolute;width: 1px;}#sk-container-id-2 div.sk-estimator {font-family: monospace;background-color: #f0f8ff;border: 1px dotted black;border-radius: 0.25em;box-sizing: border-box;margin-bottom: 0.5em;}#sk-container-id-2 div.sk-estimator:hover {background-color: #d4ebff;}#sk-container-id-2 div.sk-parallel-item::after {content: \"\";width: 100%;border-bottom: 1px solid gray;flex-grow: 1;}#sk-container-id-2 div.sk-label:hover label.sk-toggleable__label {background-color: #d4ebff;}#sk-container-id-2 div.sk-serial::before {content: \"\";position: absolute;border-left: 1px solid gray;box-sizing: border-box;top: 0;bottom: 0;left: 50%;z-index: 0;}#sk-container-id-2 div.sk-serial {display: flex;flex-direction: column;align-items: center;background-color: white;padding-right: 0.2em;padding-left: 0.2em;position: relative;}#sk-container-id-2 div.sk-item {position: relative;z-index: 1;}#sk-container-id-2 div.sk-parallel {display: flex;align-items: stretch;justify-content: center;background-color: white;position: relative;}#sk-container-id-2 div.sk-item::before, #sk-container-id-2 div.sk-parallel-item::before {content: \"\";position: absolute;border-left: 1px solid gray;box-sizing: border-box;top: 0;bottom: 0;left: 50%;z-index: -1;}#sk-container-id-2 div.sk-parallel-item {display: flex;flex-direction: column;z-index: 1;position: relative;background-color: white;}#sk-container-id-2 div.sk-parallel-item:first-child::after {align-self: flex-end;width: 50%;}#sk-container-id-2 div.sk-parallel-item:last-child::after {align-self: flex-start;width: 50%;}#sk-container-id-2 div.sk-parallel-item:only-child::after {width: 0;}#sk-container-id-2 div.sk-dashed-wrapped {border: 1px dashed gray;margin: 0 0.4em 0.5em 0.4em;box-sizing: border-box;padding-bottom: 0.4em;background-color: white;}#sk-container-id-2 div.sk-label label {font-family: monospace;font-weight: bold;display: inline-block;line-height: 1.2em;}#sk-container-id-2 div.sk-label-container {text-align: center;}#sk-container-id-2 div.sk-container {/* jupyter's `normalize.less` sets `[hidden] { display: none; }` but bootstrap.min.css set `[hidden] { display: none !important; }` so we also need the `!important` here to be able to override the default hidden behavior on the sphinx rendered scikit-learn.org. See: https://github.com/scikit-learn/scikit-learn/issues/21755 */display: inline-block !important;position: relative;}#sk-container-id-2 div.sk-text-repr-fallback {display: none;}</style><div id=\"sk-container-id-2\" class=\"sk-top-container\"><div class=\"sk-text-repr-fallback\"><pre>SVC()</pre><b>In a Jupyter environment, please rerun this cell to show the HTML representation or trust the notebook. <br />On GitHub, the HTML representation is unable to render, please try loading this page with nbviewer.org.</b></div><div class=\"sk-container\" hidden><div class=\"sk-item\"><div class=\"sk-estimator sk-toggleable\"><input class=\"sk-toggleable__control sk-hidden--visually\" id=\"sk-estimator-id-2\" type=\"checkbox\" checked><label for=\"sk-estimator-id-2\" class=\"sk-toggleable__label sk-toggleable__label-arrow\">SVC</label><div class=\"sk-toggleable__content\"><pre>SVC()</pre></div></div></div></div></div>"
      ],
      "text/plain": [
       "SVC()"
      ]
     },
     "execution_count": 50,
     "metadata": {},
     "output_type": "execute_result"
    }
   ],
   "source": [
    "svm.fit(train_x, train_y)"
   ]
  },
  {
   "cell_type": "code",
   "execution_count": 51,
   "id": "420217e7",
   "metadata": {},
   "outputs": [
    {
     "data": {
      "text/plain": [
       "array([3, 3, 3, 3, 3, 3, 3, 3, 3, 3, 3, 3, 3, 3, 3, 3, 3, 3, 3, 3, 3, 3,\n",
       "       3, 3, 3, 3, 3, 3, 3, 3, 3, 3, 3, 3, 3, 3, 3, 3, 3, 3, 3, 3, 3, 3,\n",
       "       3, 3, 3, 3, 3, 3, 3, 3, 3, 3, 3, 3, 3, 3, 3, 3, 3, 3, 3, 3, 3, 3,\n",
       "       3, 3, 3, 3, 3, 3, 3, 3, 3, 3, 3, 3, 3, 3, 3, 3, 3, 3, 3, 3, 3, 3,\n",
       "       3, 3, 3, 3, 3, 3, 3, 3, 3, 3, 3, 3, 3, 3, 3, 3, 3, 3, 3, 3, 3, 3,\n",
       "       3, 3, 3, 3, 3, 3, 3, 3, 3, 3, 3, 3, 3, 3, 3, 3, 3, 3, 3, 3, 3, 3,\n",
       "       3, 3, 3, 3, 3, 3, 3, 3, 3, 3, 3, 3, 3, 3, 3, 3, 3, 3, 3, 3, 3, 3,\n",
       "       3, 3, 3, 3, 3, 3, 3, 3, 3, 3, 3, 3, 3, 3, 3, 3, 3, 3, 3, 3, 3, 3,\n",
       "       3, 3, 3, 3, 3, 3, 3, 3, 3, 3, 3, 3, 3, 3, 3, 3, 3, 3, 3, 3, 3, 3,\n",
       "       3, 3, 3, 3, 3, 3, 3, 3, 3, 3, 3, 3, 3, 3, 3, 3, 3, 3, 3, 3, 3, 3,\n",
       "       3, 3, 3, 3, 3, 3, 3, 3, 3, 3, 3, 3, 3, 3, 3, 3, 3, 3, 3, 3, 3, 3,\n",
       "       3, 3, 3, 3, 3, 3, 3, 3, 3, 3, 3, 3, 3, 3, 3, 3, 3, 3, 3, 3, 3, 3,\n",
       "       3, 3, 3, 3, 3, 3, 3, 3, 3, 3, 3, 3, 3, 3, 3, 3, 3, 3, 3, 3, 3, 3,\n",
       "       3, 3, 3, 3, 3, 3, 3, 3, 3, 3, 3, 3, 3, 3, 3, 3, 3, 3, 3, 3, 3, 3,\n",
       "       3, 3, 3, 3, 3, 3, 3, 3, 3, 3, 3, 3, 3, 3, 3, 3, 3, 3, 3, 3, 3, 3,\n",
       "       3, 3, 3, 3, 3, 3, 3, 3, 3, 3, 3, 3, 3, 3, 3, 3, 3, 3, 3, 3, 3, 3,\n",
       "       3, 3, 3, 3, 3, 3, 3, 3, 3, 3, 3, 3, 3, 3, 3, 3, 3, 3, 3, 3, 3, 3,\n",
       "       3, 3, 3, 3, 3, 3, 3, 3, 3, 3, 3, 3, 3, 3, 3, 3, 3, 3, 3, 3, 3, 3,\n",
       "       3, 3, 3, 3, 3, 3, 3, 3, 3, 3, 3, 3, 3, 3, 3, 3, 3, 3, 3, 3, 3, 3,\n",
       "       3, 3, 3, 3, 3, 3, 3, 3, 3, 3, 3, 3, 3, 3, 3, 3, 3, 3, 3, 3, 3, 3,\n",
       "       3, 3, 3, 3, 3, 3, 3, 3, 3, 3, 3, 3, 3, 3, 3, 3, 3, 3, 3, 3, 3, 3,\n",
       "       3, 3, 3, 3, 3, 3, 3, 3, 3, 3, 3, 3, 3, 3, 3, 3, 3, 3, 3, 3, 3, 3,\n",
       "       3, 3, 3, 3, 3, 3, 3, 3, 3, 3, 3, 3, 3, 3, 3, 3, 3, 3, 3, 3, 3, 3,\n",
       "       3, 3, 3, 3, 3, 3, 3, 3, 3, 3, 3, 3, 3, 3, 3, 3, 3, 3, 3, 3, 3, 3,\n",
       "       3, 3, 3, 3, 3, 3, 3, 3, 3, 3, 3, 3, 3, 3, 3, 3, 3, 3, 3, 3, 3, 3,\n",
       "       3, 3, 3, 3, 3, 3, 3, 3, 3, 3, 3, 3, 3, 3, 3, 3, 3, 3, 3, 3, 3, 3,\n",
       "       3, 3, 3, 3], dtype=int64)"
      ]
     },
     "execution_count": 51,
     "metadata": {},
     "output_type": "execute_result"
    }
   ],
   "source": [
    "pred = svm.predict(test_x)\n",
    "pred"
   ]
  },
  {
   "cell_type": "code",
   "execution_count": 52,
   "id": "308fc05b",
   "metadata": {},
   "outputs": [
    {
     "data": {
      "text/plain": [
       "array([[  0,   0,  53],\n",
       "       [  0,   0, 184],\n",
       "       [  0,   0, 339]], dtype=int64)"
      ]
     },
     "execution_count": 52,
     "metadata": {},
     "output_type": "execute_result"
    }
   ],
   "source": [
    "confusion_matrix(test_y, pred)         # poor results for class 0 & 1"
   ]
  },
  {
   "cell_type": "code",
   "execution_count": 53,
   "id": "63a62416",
   "metadata": {},
   "outputs": [
    {
     "data": {
      "text/plain": [
       "58.854166666666664"
      ]
     },
     "execution_count": 53,
     "metadata": {},
     "output_type": "execute_result"
    }
   ],
   "source": [
    "accuracy_score(test_y, pred)*100"
   ]
  },
  {
   "cell_type": "code",
   "execution_count": null,
   "id": "20c4980a",
   "metadata": {},
   "outputs": [],
   "source": []
  },
  {
   "cell_type": "code",
   "execution_count": 54,
   "id": "d384f91b",
   "metadata": {},
   "outputs": [],
   "source": [
    "# Naive Bayes & SVM give good results when the data is a high dimensional data.\n",
    "# Here, model on these 2 algorithms not giving good results (unbalanced model).\n",
    "# Hence, we do not consider NB & SVM in this case."
   ]
  },
  {
   "cell_type": "code",
   "execution_count": null,
   "id": "73d06790",
   "metadata": {},
   "outputs": [],
   "source": []
  },
  {
   "cell_type": "code",
   "execution_count": 55,
   "id": "5f1f7c6a",
   "metadata": {},
   "outputs": [],
   "source": [
    "# Using Decision Tree:"
   ]
  },
  {
   "cell_type": "code",
   "execution_count": 56,
   "id": "220ee9af",
   "metadata": {},
   "outputs": [],
   "source": [
    "from sklearn.tree import DecisionTreeClassifier"
   ]
  },
  {
   "cell_type": "code",
   "execution_count": 57,
   "id": "c8a1dc5b",
   "metadata": {},
   "outputs": [],
   "source": [
    "dtc = DecisionTreeClassifier()"
   ]
  },
  {
   "cell_type": "code",
   "execution_count": 58,
   "id": "1cc8a5fc",
   "metadata": {},
   "outputs": [
    {
     "data": {
      "text/html": [
       "<style>#sk-container-id-3 {color: black;}#sk-container-id-3 pre{padding: 0;}#sk-container-id-3 div.sk-toggleable {background-color: white;}#sk-container-id-3 label.sk-toggleable__label {cursor: pointer;display: block;width: 100%;margin-bottom: 0;padding: 0.3em;box-sizing: border-box;text-align: center;}#sk-container-id-3 label.sk-toggleable__label-arrow:before {content: \"▸\";float: left;margin-right: 0.25em;color: #696969;}#sk-container-id-3 label.sk-toggleable__label-arrow:hover:before {color: black;}#sk-container-id-3 div.sk-estimator:hover label.sk-toggleable__label-arrow:before {color: black;}#sk-container-id-3 div.sk-toggleable__content {max-height: 0;max-width: 0;overflow: hidden;text-align: left;background-color: #f0f8ff;}#sk-container-id-3 div.sk-toggleable__content pre {margin: 0.2em;color: black;border-radius: 0.25em;background-color: #f0f8ff;}#sk-container-id-3 input.sk-toggleable__control:checked~div.sk-toggleable__content {max-height: 200px;max-width: 100%;overflow: auto;}#sk-container-id-3 input.sk-toggleable__control:checked~label.sk-toggleable__label-arrow:before {content: \"▾\";}#sk-container-id-3 div.sk-estimator input.sk-toggleable__control:checked~label.sk-toggleable__label {background-color: #d4ebff;}#sk-container-id-3 div.sk-label input.sk-toggleable__control:checked~label.sk-toggleable__label {background-color: #d4ebff;}#sk-container-id-3 input.sk-hidden--visually {border: 0;clip: rect(1px 1px 1px 1px);clip: rect(1px, 1px, 1px, 1px);height: 1px;margin: -1px;overflow: hidden;padding: 0;position: absolute;width: 1px;}#sk-container-id-3 div.sk-estimator {font-family: monospace;background-color: #f0f8ff;border: 1px dotted black;border-radius: 0.25em;box-sizing: border-box;margin-bottom: 0.5em;}#sk-container-id-3 div.sk-estimator:hover {background-color: #d4ebff;}#sk-container-id-3 div.sk-parallel-item::after {content: \"\";width: 100%;border-bottom: 1px solid gray;flex-grow: 1;}#sk-container-id-3 div.sk-label:hover label.sk-toggleable__label {background-color: #d4ebff;}#sk-container-id-3 div.sk-serial::before {content: \"\";position: absolute;border-left: 1px solid gray;box-sizing: border-box;top: 0;bottom: 0;left: 50%;z-index: 0;}#sk-container-id-3 div.sk-serial {display: flex;flex-direction: column;align-items: center;background-color: white;padding-right: 0.2em;padding-left: 0.2em;position: relative;}#sk-container-id-3 div.sk-item {position: relative;z-index: 1;}#sk-container-id-3 div.sk-parallel {display: flex;align-items: stretch;justify-content: center;background-color: white;position: relative;}#sk-container-id-3 div.sk-item::before, #sk-container-id-3 div.sk-parallel-item::before {content: \"\";position: absolute;border-left: 1px solid gray;box-sizing: border-box;top: 0;bottom: 0;left: 50%;z-index: -1;}#sk-container-id-3 div.sk-parallel-item {display: flex;flex-direction: column;z-index: 1;position: relative;background-color: white;}#sk-container-id-3 div.sk-parallel-item:first-child::after {align-self: flex-end;width: 50%;}#sk-container-id-3 div.sk-parallel-item:last-child::after {align-self: flex-start;width: 50%;}#sk-container-id-3 div.sk-parallel-item:only-child::after {width: 0;}#sk-container-id-3 div.sk-dashed-wrapped {border: 1px dashed gray;margin: 0 0.4em 0.5em 0.4em;box-sizing: border-box;padding-bottom: 0.4em;background-color: white;}#sk-container-id-3 div.sk-label label {font-family: monospace;font-weight: bold;display: inline-block;line-height: 1.2em;}#sk-container-id-3 div.sk-label-container {text-align: center;}#sk-container-id-3 div.sk-container {/* jupyter's `normalize.less` sets `[hidden] { display: none; }` but bootstrap.min.css set `[hidden] { display: none !important; }` so we also need the `!important` here to be able to override the default hidden behavior on the sphinx rendered scikit-learn.org. See: https://github.com/scikit-learn/scikit-learn/issues/21755 */display: inline-block !important;position: relative;}#sk-container-id-3 div.sk-text-repr-fallback {display: none;}</style><div id=\"sk-container-id-3\" class=\"sk-top-container\"><div class=\"sk-text-repr-fallback\"><pre>DecisionTreeClassifier()</pre><b>In a Jupyter environment, please rerun this cell to show the HTML representation or trust the notebook. <br />On GitHub, the HTML representation is unable to render, please try loading this page with nbviewer.org.</b></div><div class=\"sk-container\" hidden><div class=\"sk-item\"><div class=\"sk-estimator sk-toggleable\"><input class=\"sk-toggleable__control sk-hidden--visually\" id=\"sk-estimator-id-3\" type=\"checkbox\" checked><label for=\"sk-estimator-id-3\" class=\"sk-toggleable__label sk-toggleable__label-arrow\">DecisionTreeClassifier</label><div class=\"sk-toggleable__content\"><pre>DecisionTreeClassifier()</pre></div></div></div></div></div>"
      ],
      "text/plain": [
       "DecisionTreeClassifier()"
      ]
     },
     "execution_count": 58,
     "metadata": {},
     "output_type": "execute_result"
    }
   ],
   "source": [
    "dtc.fit(train_x, train_y)"
   ]
  },
  {
   "cell_type": "code",
   "execution_count": 59,
   "id": "468324df",
   "metadata": {},
   "outputs": [
    {
     "data": {
      "text/plain": [
       "array([2, 3, 3, 3, 3, 1, 3, 3, 3, 2, 3, 2, 2, 3, 3, 1, 3, 3, 3, 3, 2, 3,\n",
       "       3, 2, 3, 3, 3, 3, 3, 3, 2, 1, 3, 3, 2, 3, 3, 3, 3, 3, 2, 2, 3, 3,\n",
       "       1, 2, 2, 2, 3, 3, 3, 3, 3, 3, 3, 2, 3, 1, 2, 3, 3, 2, 2, 3, 3, 3,\n",
       "       3, 3, 3, 2, 3, 2, 3, 3, 3, 3, 3, 3, 3, 1, 3, 2, 2, 2, 3, 3, 1, 3,\n",
       "       2, 3, 3, 3, 3, 2, 3, 2, 3, 3, 2, 3, 2, 3, 3, 2, 2, 3, 3, 3, 3, 3,\n",
       "       3, 3, 2, 3, 3, 2, 1, 2, 3, 3, 1, 3, 3, 3, 2, 3, 3, 3, 3, 2, 2, 3,\n",
       "       3, 2, 2, 3, 3, 3, 3, 2, 1, 2, 3, 2, 3, 1, 3, 2, 3, 3, 2, 3, 2, 3,\n",
       "       3, 3, 3, 3, 3, 1, 3, 2, 2, 3, 2, 3, 2, 1, 3, 2, 2, 2, 3, 3, 1, 3,\n",
       "       3, 3, 3, 3, 2, 3, 3, 3, 2, 1, 3, 1, 2, 3, 3, 2, 2, 1, 2, 2, 2, 3,\n",
       "       2, 2, 1, 3, 3, 3, 3, 3, 3, 1, 3, 2, 3, 1, 3, 2, 2, 2, 3, 2, 1, 3,\n",
       "       1, 3, 3, 3, 3, 3, 2, 3, 3, 3, 3, 3, 3, 3, 2, 3, 3, 3, 1, 2, 2, 3,\n",
       "       3, 2, 2, 3, 3, 2, 3, 3, 3, 3, 2, 2, 3, 3, 3, 2, 3, 3, 3, 2, 3, 3,\n",
       "       3, 3, 1, 2, 2, 2, 3, 2, 1, 3, 3, 3, 2, 3, 3, 3, 3, 1, 3, 3, 3, 3,\n",
       "       2, 3, 3, 1, 2, 3, 3, 2, 3, 3, 3, 2, 3, 3, 2, 3, 3, 3, 3, 1, 3, 3,\n",
       "       2, 2, 2, 2, 3, 3, 3, 3, 3, 3, 3, 3, 3, 3, 2, 3, 2, 3, 2, 2, 3, 3,\n",
       "       2, 2, 1, 3, 3, 3, 2, 3, 2, 3, 3, 3, 3, 1, 2, 3, 3, 2, 3, 3, 2, 1,\n",
       "       1, 3, 3, 1, 3, 3, 3, 2, 1, 3, 1, 3, 3, 2, 3, 2, 2, 3, 3, 2, 3, 1,\n",
       "       3, 3, 3, 3, 3, 2, 2, 2, 3, 3, 3, 3, 3, 1, 2, 3, 3, 3, 3, 3, 2, 3,\n",
       "       3, 3, 2, 2, 3, 3, 3, 2, 3, 2, 3, 3, 3, 1, 2, 3, 3, 3, 3, 1, 1, 3,\n",
       "       3, 2, 3, 3, 2, 3, 3, 3, 3, 3, 2, 2, 2, 2, 2, 3, 3, 1, 1, 3, 2, 3,\n",
       "       2, 1, 3, 1, 3, 2, 2, 1, 3, 1, 2, 3, 3, 3, 3, 2, 3, 3, 3, 3, 3, 3,\n",
       "       3, 2, 2, 2, 2, 3, 2, 3, 2, 1, 2, 3, 3, 1, 3, 2, 2, 3, 1, 3, 2, 2,\n",
       "       2, 3, 3, 2, 2, 3, 3, 3, 3, 3, 2, 3, 3, 3, 3, 1, 3, 2, 2, 3, 2, 1,\n",
       "       3, 3, 2, 2, 3, 2, 1, 3, 2, 2, 3, 2, 3, 1, 1, 1, 2, 3, 3, 2, 3, 3,\n",
       "       3, 2, 2, 3, 3, 1, 2, 3, 3, 3, 3, 3, 3, 3, 3, 3, 3, 2, 3, 2, 3, 3,\n",
       "       2, 2, 3, 1, 3, 3, 3, 3, 2, 3, 2, 3, 3, 3, 3, 2, 2, 3, 3, 2, 1, 2,\n",
       "       3, 2, 2, 3], dtype=int64)"
      ]
     },
     "execution_count": 59,
     "metadata": {},
     "output_type": "execute_result"
    }
   ],
   "source": [
    "pred = dtc.predict(test_x)\n",
    "pred"
   ]
  },
  {
   "cell_type": "code",
   "execution_count": 60,
   "id": "76ccaa6a",
   "metadata": {},
   "outputs": [
    {
     "data": {
      "text/plain": [
       "array([[ 39,   3,  11],\n",
       "       [  7, 118,  59],\n",
       "       [ 12,  49, 278]], dtype=int64)"
      ]
     },
     "execution_count": 60,
     "metadata": {},
     "output_type": "execute_result"
    }
   ],
   "source": [
    "confusion_matrix(test_y, pred)                # DT model performing pretty well for all the classes"
   ]
  },
  {
   "cell_type": "code",
   "execution_count": 61,
   "id": "012a25d5",
   "metadata": {},
   "outputs": [
    {
     "data": {
      "text/plain": [
       "75.52083333333334"
      ]
     },
     "execution_count": 61,
     "metadata": {},
     "output_type": "execute_result"
    }
   ],
   "source": [
    "accuracy_score(test_y, pred)*100"
   ]
  },
  {
   "cell_type": "code",
   "execution_count": null,
   "id": "c4d90750",
   "metadata": {},
   "outputs": [],
   "source": []
  },
  {
   "cell_type": "code",
   "execution_count": 62,
   "id": "ac8b79ec",
   "metadata": {},
   "outputs": [],
   "source": [
    "# Using Random Forest:"
   ]
  },
  {
   "cell_type": "code",
   "execution_count": 63,
   "id": "441eb6da",
   "metadata": {},
   "outputs": [],
   "source": [
    "from sklearn.ensemble import RandomForestClassifier"
   ]
  },
  {
   "cell_type": "code",
   "execution_count": 64,
   "id": "5c56b2a8",
   "metadata": {},
   "outputs": [],
   "source": [
    "rfc = RandomForestClassifier()"
   ]
  },
  {
   "cell_type": "code",
   "execution_count": 65,
   "id": "bfa4d484",
   "metadata": {},
   "outputs": [
    {
     "data": {
      "text/html": [
       "<style>#sk-container-id-4 {color: black;}#sk-container-id-4 pre{padding: 0;}#sk-container-id-4 div.sk-toggleable {background-color: white;}#sk-container-id-4 label.sk-toggleable__label {cursor: pointer;display: block;width: 100%;margin-bottom: 0;padding: 0.3em;box-sizing: border-box;text-align: center;}#sk-container-id-4 label.sk-toggleable__label-arrow:before {content: \"▸\";float: left;margin-right: 0.25em;color: #696969;}#sk-container-id-4 label.sk-toggleable__label-arrow:hover:before {color: black;}#sk-container-id-4 div.sk-estimator:hover label.sk-toggleable__label-arrow:before {color: black;}#sk-container-id-4 div.sk-toggleable__content {max-height: 0;max-width: 0;overflow: hidden;text-align: left;background-color: #f0f8ff;}#sk-container-id-4 div.sk-toggleable__content pre {margin: 0.2em;color: black;border-radius: 0.25em;background-color: #f0f8ff;}#sk-container-id-4 input.sk-toggleable__control:checked~div.sk-toggleable__content {max-height: 200px;max-width: 100%;overflow: auto;}#sk-container-id-4 input.sk-toggleable__control:checked~label.sk-toggleable__label-arrow:before {content: \"▾\";}#sk-container-id-4 div.sk-estimator input.sk-toggleable__control:checked~label.sk-toggleable__label {background-color: #d4ebff;}#sk-container-id-4 div.sk-label input.sk-toggleable__control:checked~label.sk-toggleable__label {background-color: #d4ebff;}#sk-container-id-4 input.sk-hidden--visually {border: 0;clip: rect(1px 1px 1px 1px);clip: rect(1px, 1px, 1px, 1px);height: 1px;margin: -1px;overflow: hidden;padding: 0;position: absolute;width: 1px;}#sk-container-id-4 div.sk-estimator {font-family: monospace;background-color: #f0f8ff;border: 1px dotted black;border-radius: 0.25em;box-sizing: border-box;margin-bottom: 0.5em;}#sk-container-id-4 div.sk-estimator:hover {background-color: #d4ebff;}#sk-container-id-4 div.sk-parallel-item::after {content: \"\";width: 100%;border-bottom: 1px solid gray;flex-grow: 1;}#sk-container-id-4 div.sk-label:hover label.sk-toggleable__label {background-color: #d4ebff;}#sk-container-id-4 div.sk-serial::before {content: \"\";position: absolute;border-left: 1px solid gray;box-sizing: border-box;top: 0;bottom: 0;left: 50%;z-index: 0;}#sk-container-id-4 div.sk-serial {display: flex;flex-direction: column;align-items: center;background-color: white;padding-right: 0.2em;padding-left: 0.2em;position: relative;}#sk-container-id-4 div.sk-item {position: relative;z-index: 1;}#sk-container-id-4 div.sk-parallel {display: flex;align-items: stretch;justify-content: center;background-color: white;position: relative;}#sk-container-id-4 div.sk-item::before, #sk-container-id-4 div.sk-parallel-item::before {content: \"\";position: absolute;border-left: 1px solid gray;box-sizing: border-box;top: 0;bottom: 0;left: 50%;z-index: -1;}#sk-container-id-4 div.sk-parallel-item {display: flex;flex-direction: column;z-index: 1;position: relative;background-color: white;}#sk-container-id-4 div.sk-parallel-item:first-child::after {align-self: flex-end;width: 50%;}#sk-container-id-4 div.sk-parallel-item:last-child::after {align-self: flex-start;width: 50%;}#sk-container-id-4 div.sk-parallel-item:only-child::after {width: 0;}#sk-container-id-4 div.sk-dashed-wrapped {border: 1px dashed gray;margin: 0 0.4em 0.5em 0.4em;box-sizing: border-box;padding-bottom: 0.4em;background-color: white;}#sk-container-id-4 div.sk-label label {font-family: monospace;font-weight: bold;display: inline-block;line-height: 1.2em;}#sk-container-id-4 div.sk-label-container {text-align: center;}#sk-container-id-4 div.sk-container {/* jupyter's `normalize.less` sets `[hidden] { display: none; }` but bootstrap.min.css set `[hidden] { display: none !important; }` so we also need the `!important` here to be able to override the default hidden behavior on the sphinx rendered scikit-learn.org. See: https://github.com/scikit-learn/scikit-learn/issues/21755 */display: inline-block !important;position: relative;}#sk-container-id-4 div.sk-text-repr-fallback {display: none;}</style><div id=\"sk-container-id-4\" class=\"sk-top-container\"><div class=\"sk-text-repr-fallback\"><pre>RandomForestClassifier()</pre><b>In a Jupyter environment, please rerun this cell to show the HTML representation or trust the notebook. <br />On GitHub, the HTML representation is unable to render, please try loading this page with nbviewer.org.</b></div><div class=\"sk-container\" hidden><div class=\"sk-item\"><div class=\"sk-estimator sk-toggleable\"><input class=\"sk-toggleable__control sk-hidden--visually\" id=\"sk-estimator-id-4\" type=\"checkbox\" checked><label for=\"sk-estimator-id-4\" class=\"sk-toggleable__label sk-toggleable__label-arrow\">RandomForestClassifier</label><div class=\"sk-toggleable__content\"><pre>RandomForestClassifier()</pre></div></div></div></div></div>"
      ],
      "text/plain": [
       "RandomForestClassifier()"
      ]
     },
     "execution_count": 65,
     "metadata": {},
     "output_type": "execute_result"
    }
   ],
   "source": [
    "rfc.fit(train_x, train_y)"
   ]
  },
  {
   "cell_type": "code",
   "execution_count": 66,
   "id": "12071175",
   "metadata": {},
   "outputs": [
    {
     "data": {
      "text/plain": [
       "array([2, 3, 3, 3, 3, 3, 3, 3, 3, 2, 3, 3, 3, 3, 3, 1, 3, 3, 3, 1, 2, 3,\n",
       "       3, 2, 3, 3, 3, 3, 3, 3, 2, 1, 3, 3, 3, 3, 3, 3, 3, 3, 2, 2, 3, 3,\n",
       "       1, 2, 2, 2, 3, 3, 3, 3, 3, 3, 3, 3, 3, 1, 3, 3, 3, 3, 2, 3, 3, 3,\n",
       "       3, 3, 3, 3, 3, 3, 3, 2, 3, 3, 3, 3, 3, 3, 3, 3, 2, 2, 3, 3, 1, 3,\n",
       "       2, 3, 2, 3, 3, 3, 3, 3, 3, 3, 2, 3, 2, 3, 3, 2, 3, 3, 3, 3, 3, 3,\n",
       "       3, 3, 2, 3, 3, 2, 1, 2, 3, 3, 1, 3, 3, 3, 2, 3, 3, 3, 3, 3, 2, 3,\n",
       "       3, 2, 2, 3, 3, 3, 3, 3, 1, 2, 3, 2, 3, 1, 3, 3, 3, 3, 2, 3, 2, 2,\n",
       "       3, 3, 3, 3, 3, 1, 3, 2, 2, 3, 2, 3, 2, 3, 3, 3, 2, 3, 3, 3, 2, 3,\n",
       "       3, 3, 3, 3, 2, 3, 3, 3, 3, 1, 3, 3, 2, 3, 3, 3, 3, 1, 3, 2, 2, 3,\n",
       "       3, 3, 1, 3, 3, 3, 3, 3, 3, 3, 3, 2, 3, 1, 3, 3, 3, 2, 3, 3, 3, 3,\n",
       "       1, 3, 3, 3, 3, 3, 3, 3, 3, 3, 3, 3, 3, 3, 3, 3, 3, 3, 1, 2, 2, 3,\n",
       "       3, 2, 3, 3, 3, 2, 3, 3, 3, 2, 3, 2, 3, 3, 3, 2, 3, 3, 3, 2, 3, 3,\n",
       "       3, 3, 2, 2, 3, 2, 3, 2, 3, 3, 3, 3, 2, 3, 3, 3, 3, 1, 3, 3, 3, 3,\n",
       "       2, 3, 3, 1, 2, 3, 3, 3, 3, 3, 3, 3, 3, 3, 3, 3, 3, 3, 3, 1, 3, 3,\n",
       "       2, 2, 2, 2, 3, 3, 3, 3, 3, 3, 3, 3, 3, 3, 2, 3, 2, 3, 2, 2, 3, 3,\n",
       "       3, 2, 1, 3, 3, 3, 2, 3, 2, 3, 3, 3, 3, 1, 2, 3, 3, 2, 3, 2, 2, 1,\n",
       "       1, 2, 3, 3, 3, 3, 3, 2, 3, 3, 1, 3, 3, 2, 3, 2, 3, 3, 3, 2, 3, 3,\n",
       "       3, 3, 3, 3, 2, 3, 3, 2, 3, 3, 3, 3, 2, 3, 2, 3, 3, 3, 3, 3, 3, 3,\n",
       "       3, 3, 3, 2, 3, 3, 3, 3, 3, 2, 3, 3, 3, 3, 2, 3, 3, 3, 3, 1, 2, 3,\n",
       "       3, 3, 3, 3, 3, 3, 3, 3, 3, 3, 2, 2, 2, 2, 2, 3, 3, 3, 3, 3, 2, 3,\n",
       "       2, 1, 3, 1, 3, 3, 2, 1, 3, 3, 3, 3, 3, 3, 3, 2, 3, 3, 3, 3, 3, 2,\n",
       "       3, 3, 3, 3, 3, 3, 2, 3, 3, 1, 2, 3, 3, 1, 3, 3, 3, 3, 3, 3, 2, 3,\n",
       "       2, 3, 3, 2, 2, 3, 3, 3, 3, 3, 2, 3, 3, 3, 3, 2, 3, 2, 2, 3, 3, 3,\n",
       "       3, 3, 2, 3, 3, 3, 1, 3, 2, 2, 3, 2, 3, 1, 1, 1, 3, 3, 3, 2, 3, 3,\n",
       "       3, 3, 2, 3, 3, 1, 3, 3, 3, 3, 3, 3, 3, 3, 3, 3, 3, 3, 3, 3, 3, 3,\n",
       "       2, 3, 3, 3, 3, 3, 3, 3, 3, 3, 2, 3, 3, 3, 3, 3, 2, 3, 3, 2, 3, 3,\n",
       "       3, 2, 2, 3], dtype=int64)"
      ]
     },
     "execution_count": 66,
     "metadata": {},
     "output_type": "execute_result"
    }
   ],
   "source": [
    "pred = rfc.predict(test_x)\n",
    "pred"
   ]
  },
  {
   "cell_type": "code",
   "execution_count": 67,
   "id": "96d11de3",
   "metadata": {},
   "outputs": [
    {
     "data": {
      "text/plain": [
       "array([[ 36,   3,  14],\n",
       "       [  0,  97,  87],\n",
       "       [  0,  18, 321]], dtype=int64)"
      ]
     },
     "execution_count": 67,
     "metadata": {},
     "output_type": "execute_result"
    }
   ],
   "source": [
    "confusion_matrix(test_y, pred)                     # RF model also giving considerable results"
   ]
  },
  {
   "cell_type": "code",
   "execution_count": 68,
   "id": "9b3c0c19",
   "metadata": {},
   "outputs": [
    {
     "data": {
      "text/plain": [
       "78.81944444444444"
      ]
     },
     "execution_count": 68,
     "metadata": {},
     "output_type": "execute_result"
    }
   ],
   "source": [
    "accuracy_score(test_y, pred)*100"
   ]
  },
  {
   "cell_type": "code",
   "execution_count": null,
   "id": "f1016073",
   "metadata": {},
   "outputs": [],
   "source": []
  },
  {
   "cell_type": "code",
   "execution_count": 69,
   "id": "399efd37",
   "metadata": {},
   "outputs": [],
   "source": [
    "#Using Logistic Regression:"
   ]
  },
  {
   "cell_type": "code",
   "execution_count": 70,
   "id": "12ab63df",
   "metadata": {},
   "outputs": [],
   "source": [
    "from sklearn.linear_model import LogisticRegression"
   ]
  },
  {
   "cell_type": "code",
   "execution_count": 71,
   "id": "d2314d8c",
   "metadata": {},
   "outputs": [],
   "source": [
    "logi = LogisticRegression()"
   ]
  },
  {
   "cell_type": "code",
   "execution_count": 72,
   "id": "91376a68",
   "metadata": {
    "scrolled": true
   },
   "outputs": [
    {
     "name": "stderr",
     "output_type": "stream",
     "text": [
      "D:\\Software\\Anaconda\\envs\\py310\\lib\\site-packages\\sklearn\\linear_model\\_logistic.py:460: ConvergenceWarning: lbfgs failed to converge (status=1):\n",
      "STOP: TOTAL NO. of ITERATIONS REACHED LIMIT.\n",
      "\n",
      "Increase the number of iterations (max_iter) or scale the data as shown in:\n",
      "    https://scikit-learn.org/stable/modules/preprocessing.html\n",
      "Please also refer to the documentation for alternative solver options:\n",
      "    https://scikit-learn.org/stable/modules/linear_model.html#logistic-regression\n",
      "  n_iter_i = _check_optimize_result(\n"
     ]
    },
    {
     "data": {
      "text/html": [
       "<style>#sk-container-id-5 {color: black;}#sk-container-id-5 pre{padding: 0;}#sk-container-id-5 div.sk-toggleable {background-color: white;}#sk-container-id-5 label.sk-toggleable__label {cursor: pointer;display: block;width: 100%;margin-bottom: 0;padding: 0.3em;box-sizing: border-box;text-align: center;}#sk-container-id-5 label.sk-toggleable__label-arrow:before {content: \"▸\";float: left;margin-right: 0.25em;color: #696969;}#sk-container-id-5 label.sk-toggleable__label-arrow:hover:before {color: black;}#sk-container-id-5 div.sk-estimator:hover label.sk-toggleable__label-arrow:before {color: black;}#sk-container-id-5 div.sk-toggleable__content {max-height: 0;max-width: 0;overflow: hidden;text-align: left;background-color: #f0f8ff;}#sk-container-id-5 div.sk-toggleable__content pre {margin: 0.2em;color: black;border-radius: 0.25em;background-color: #f0f8ff;}#sk-container-id-5 input.sk-toggleable__control:checked~div.sk-toggleable__content {max-height: 200px;max-width: 100%;overflow: auto;}#sk-container-id-5 input.sk-toggleable__control:checked~label.sk-toggleable__label-arrow:before {content: \"▾\";}#sk-container-id-5 div.sk-estimator input.sk-toggleable__control:checked~label.sk-toggleable__label {background-color: #d4ebff;}#sk-container-id-5 div.sk-label input.sk-toggleable__control:checked~label.sk-toggleable__label {background-color: #d4ebff;}#sk-container-id-5 input.sk-hidden--visually {border: 0;clip: rect(1px 1px 1px 1px);clip: rect(1px, 1px, 1px, 1px);height: 1px;margin: -1px;overflow: hidden;padding: 0;position: absolute;width: 1px;}#sk-container-id-5 div.sk-estimator {font-family: monospace;background-color: #f0f8ff;border: 1px dotted black;border-radius: 0.25em;box-sizing: border-box;margin-bottom: 0.5em;}#sk-container-id-5 div.sk-estimator:hover {background-color: #d4ebff;}#sk-container-id-5 div.sk-parallel-item::after {content: \"\";width: 100%;border-bottom: 1px solid gray;flex-grow: 1;}#sk-container-id-5 div.sk-label:hover label.sk-toggleable__label {background-color: #d4ebff;}#sk-container-id-5 div.sk-serial::before {content: \"\";position: absolute;border-left: 1px solid gray;box-sizing: border-box;top: 0;bottom: 0;left: 50%;z-index: 0;}#sk-container-id-5 div.sk-serial {display: flex;flex-direction: column;align-items: center;background-color: white;padding-right: 0.2em;padding-left: 0.2em;position: relative;}#sk-container-id-5 div.sk-item {position: relative;z-index: 1;}#sk-container-id-5 div.sk-parallel {display: flex;align-items: stretch;justify-content: center;background-color: white;position: relative;}#sk-container-id-5 div.sk-item::before, #sk-container-id-5 div.sk-parallel-item::before {content: \"\";position: absolute;border-left: 1px solid gray;box-sizing: border-box;top: 0;bottom: 0;left: 50%;z-index: -1;}#sk-container-id-5 div.sk-parallel-item {display: flex;flex-direction: column;z-index: 1;position: relative;background-color: white;}#sk-container-id-5 div.sk-parallel-item:first-child::after {align-self: flex-end;width: 50%;}#sk-container-id-5 div.sk-parallel-item:last-child::after {align-self: flex-start;width: 50%;}#sk-container-id-5 div.sk-parallel-item:only-child::after {width: 0;}#sk-container-id-5 div.sk-dashed-wrapped {border: 1px dashed gray;margin: 0 0.4em 0.5em 0.4em;box-sizing: border-box;padding-bottom: 0.4em;background-color: white;}#sk-container-id-5 div.sk-label label {font-family: monospace;font-weight: bold;display: inline-block;line-height: 1.2em;}#sk-container-id-5 div.sk-label-container {text-align: center;}#sk-container-id-5 div.sk-container {/* jupyter's `normalize.less` sets `[hidden] { display: none; }` but bootstrap.min.css set `[hidden] { display: none !important; }` so we also need the `!important` here to be able to override the default hidden behavior on the sphinx rendered scikit-learn.org. See: https://github.com/scikit-learn/scikit-learn/issues/21755 */display: inline-block !important;position: relative;}#sk-container-id-5 div.sk-text-repr-fallback {display: none;}</style><div id=\"sk-container-id-5\" class=\"sk-top-container\"><div class=\"sk-text-repr-fallback\"><pre>LogisticRegression()</pre><b>In a Jupyter environment, please rerun this cell to show the HTML representation or trust the notebook. <br />On GitHub, the HTML representation is unable to render, please try loading this page with nbviewer.org.</b></div><div class=\"sk-container\" hidden><div class=\"sk-item\"><div class=\"sk-estimator sk-toggleable\"><input class=\"sk-toggleable__control sk-hidden--visually\" id=\"sk-estimator-id-5\" type=\"checkbox\" checked><label for=\"sk-estimator-id-5\" class=\"sk-toggleable__label sk-toggleable__label-arrow\">LogisticRegression</label><div class=\"sk-toggleable__content\"><pre>LogisticRegression()</pre></div></div></div></div></div>"
      ],
      "text/plain": [
       "LogisticRegression()"
      ]
     },
     "execution_count": 72,
     "metadata": {},
     "output_type": "execute_result"
    }
   ],
   "source": [
    "logi.fit(train_x, train_y)"
   ]
  },
  {
   "cell_type": "code",
   "execution_count": 73,
   "id": "747e6d08",
   "metadata": {},
   "outputs": [
    {
     "data": {
      "text/plain": [
       "array([3, 3, 3, 3, 3, 3, 3, 3, 3, 2, 3, 3, 3, 3, 3, 1, 3, 3, 3, 3, 3, 3,\n",
       "       3, 3, 3, 3, 3, 3, 2, 3, 3, 3, 3, 3, 3, 3, 3, 3, 3, 3, 3, 3, 3, 3,\n",
       "       3, 3, 3, 3, 3, 3, 3, 3, 3, 3, 3, 3, 3, 3, 3, 3, 3, 3, 3, 3, 3, 3,\n",
       "       3, 3, 3, 3, 3, 2, 3, 3, 3, 3, 3, 3, 3, 3, 2, 3, 3, 3, 3, 3, 3, 3,\n",
       "       3, 3, 2, 3, 3, 3, 3, 3, 3, 3, 3, 3, 3, 3, 3, 3, 3, 3, 3, 3, 3, 3,\n",
       "       3, 3, 2, 3, 3, 3, 3, 2, 3, 3, 1, 3, 3, 3, 3, 3, 3, 3, 3, 3, 3, 3,\n",
       "       3, 2, 2, 3, 3, 3, 3, 2, 1, 3, 3, 3, 3, 3, 3, 3, 3, 2, 3, 3, 3, 2,\n",
       "       2, 3, 3, 3, 3, 2, 3, 3, 3, 2, 3, 3, 3, 3, 3, 3, 2, 3, 2, 3, 2, 3,\n",
       "       3, 3, 3, 3, 2, 3, 3, 3, 2, 3, 3, 3, 3, 3, 3, 3, 3, 1, 2, 2, 3, 3,\n",
       "       3, 3, 3, 3, 3, 3, 3, 3, 3, 3, 3, 3, 3, 3, 3, 2, 3, 3, 3, 3, 3, 3,\n",
       "       3, 3, 3, 2, 3, 3, 3, 3, 3, 3, 3, 3, 3, 3, 3, 3, 3, 3, 3, 3, 3, 3,\n",
       "       3, 3, 3, 3, 3, 3, 3, 3, 3, 3, 3, 2, 3, 3, 3, 3, 3, 3, 2, 3, 3, 3,\n",
       "       3, 3, 2, 3, 3, 3, 2, 3, 3, 3, 3, 3, 3, 3, 3, 3, 3, 3, 3, 2, 3, 3,\n",
       "       3, 3, 3, 3, 3, 3, 3, 3, 3, 3, 3, 3, 3, 3, 3, 3, 3, 3, 3, 3, 3, 3,\n",
       "       3, 2, 2, 2, 3, 3, 3, 3, 3, 3, 3, 2, 3, 3, 2, 3, 2, 3, 3, 2, 2, 3,\n",
       "       3, 3, 3, 3, 3, 3, 2, 3, 3, 3, 3, 3, 3, 3, 3, 3, 3, 3, 3, 3, 3, 3,\n",
       "       3, 3, 3, 3, 3, 2, 2, 3, 3, 3, 3, 3, 3, 3, 3, 3, 3, 3, 3, 2, 3, 3,\n",
       "       3, 3, 3, 3, 2, 3, 3, 3, 3, 3, 3, 3, 2, 3, 3, 3, 2, 3, 3, 3, 3, 3,\n",
       "       3, 3, 3, 3, 3, 3, 3, 2, 3, 3, 3, 1, 3, 3, 3, 3, 3, 3, 3, 3, 3, 3,\n",
       "       3, 3, 3, 3, 3, 3, 3, 3, 3, 3, 3, 1, 3, 3, 3, 3, 3, 3, 3, 3, 3, 3,\n",
       "       3, 3, 3, 3, 3, 3, 2, 3, 3, 3, 3, 3, 3, 3, 3, 3, 3, 3, 3, 3, 2, 2,\n",
       "       3, 3, 3, 3, 3, 3, 3, 3, 3, 3, 3, 3, 3, 3, 2, 2, 3, 3, 3, 3, 2, 3,\n",
       "       3, 3, 3, 3, 3, 3, 3, 3, 3, 3, 3, 2, 3, 3, 3, 2, 3, 3, 3, 3, 3, 2,\n",
       "       3, 2, 2, 3, 3, 3, 3, 3, 3, 3, 3, 3, 3, 3, 3, 2, 3, 3, 3, 3, 3, 3,\n",
       "       2, 3, 2, 3, 3, 1, 3, 3, 3, 3, 3, 3, 3, 3, 3, 3, 3, 3, 3, 3, 3, 3,\n",
       "       3, 3, 3, 3, 3, 3, 3, 3, 3, 3, 3, 3, 3, 2, 3, 3, 3, 3, 2, 3, 2, 3,\n",
       "       3, 3, 3, 3], dtype=int64)"
      ]
     },
     "execution_count": 73,
     "metadata": {},
     "output_type": "execute_result"
    }
   ],
   "source": [
    "pred = logi.predict(test_x)\n",
    "pred"
   ]
  },
  {
   "cell_type": "code",
   "execution_count": 74,
   "id": "d1bdc3eb",
   "metadata": {},
   "outputs": [
    {
     "data": {
      "text/plain": [
       "59.895833333333336"
      ]
     },
     "execution_count": 74,
     "metadata": {},
     "output_type": "execute_result"
    }
   ],
   "source": [
    "accuracy_score(test_y, pred)*100"
   ]
  },
  {
   "cell_type": "code",
   "execution_count": 75,
   "id": "6022eb6d",
   "metadata": {},
   "outputs": [],
   "source": [
    "# Logistic Regression fails to converge the model, so we will not consider it here."
   ]
  },
  {
   "cell_type": "code",
   "execution_count": null,
   "id": "6e939d45",
   "metadata": {},
   "outputs": [],
   "source": []
  },
  {
   "cell_type": "markdown",
   "id": "7e707466",
   "metadata": {},
   "source": [
    "Random Forest works really well with accuracy score = 78.81 %\n",
    "\n",
    "Decision Tree also works well with accuracy score = 75.52 %"
   ]
  },
  {
   "cell_type": "code",
   "execution_count": null,
   "id": "7344e83b",
   "metadata": {},
   "outputs": [],
   "source": []
  },
  {
   "cell_type": "code",
   "execution_count": 76,
   "id": "671d0343",
   "metadata": {},
   "outputs": [],
   "source": [
    "# Now to do the sentiment analysis--"
   ]
  },
  {
   "cell_type": "code",
   "execution_count": 77,
   "id": "55b36a65",
   "metadata": {},
   "outputs": [],
   "source": [
    "# Using pre-trained model 'TextBlob' :"
   ]
  },
  {
   "cell_type": "code",
   "execution_count": 78,
   "id": "8d1a5b92",
   "metadata": {},
   "outputs": [],
   "source": [
    "from textblob import TextBlob"
   ]
  },
  {
   "cell_type": "code",
   "execution_count": 79,
   "id": "4119dbec",
   "metadata": {},
   "outputs": [
    {
     "name": "stderr",
     "output_type": "stream",
     "text": [
      "C:\\Users\\revad\\AppData\\Local\\Temp\\ipykernel_21152\\357444770.py:4: FutureWarning: Series.__getitem__ treating keys as positions is deprecated. In a future version, integer keys will always be treated as labels (consistent with DataFrame behavior). To access a value by position, use `ser.iloc[pos]`\n",
      "  blob = TextBlob(flipk.iloc[i][0])\n"
     ]
    }
   ],
   "source": [
    "senti_list = []\n",
    "\n",
    "for i in range(0, flipk.shape[0]):\n",
    "    blob = TextBlob(flipk.iloc[i][0])\n",
    "    polarity_score = blob.sentiment\n",
    "    senti_list.append(polarity_score[0])"
   ]
  },
  {
   "cell_type": "code",
   "execution_count": 80,
   "id": "ed9d9082",
   "metadata": {},
   "outputs": [],
   "source": [
    "flipk['Sentiment_Score'] = senti_list"
   ]
  },
  {
   "cell_type": "code",
   "execution_count": 81,
   "id": "3c94d6b2",
   "metadata": {},
   "outputs": [
    {
     "data": {
      "text/html": [
       "<div>\n",
       "<style scoped>\n",
       "    .dataframe tbody tr th:only-of-type {\n",
       "        vertical-align: middle;\n",
       "    }\n",
       "\n",
       "    .dataframe tbody tr th {\n",
       "        vertical-align: top;\n",
       "    }\n",
       "\n",
       "    .dataframe thead th {\n",
       "        text-align: right;\n",
       "    }\n",
       "</style>\n",
       "<table border=\"1\" class=\"dataframe\">\n",
       "  <thead>\n",
       "    <tr style=\"text-align: right;\">\n",
       "      <th></th>\n",
       "      <th>Review</th>\n",
       "      <th>Rating</th>\n",
       "      <th>Sentiment_Score</th>\n",
       "    </tr>\n",
       "  </thead>\n",
       "  <tbody>\n",
       "    <tr>\n",
       "      <th>0</th>\n",
       "      <td>best under 60k great performancei got it for a...</td>\n",
       "      <td>3</td>\n",
       "      <td>0.438788</td>\n",
       "    </tr>\n",
       "    <tr>\n",
       "      <th>1</th>\n",
       "      <td>good perfomence...</td>\n",
       "      <td>3</td>\n",
       "      <td>0.700000</td>\n",
       "    </tr>\n",
       "    <tr>\n",
       "      <th>2</th>\n",
       "      <td>great performance but usually it has also that...</td>\n",
       "      <td>3</td>\n",
       "      <td>0.183333</td>\n",
       "    </tr>\n",
       "    <tr>\n",
       "      <th>3</th>\n",
       "      <td>my wife is so happy and best product</td>\n",
       "      <td>3</td>\n",
       "      <td>0.900000</td>\n",
       "    </tr>\n",
       "    <tr>\n",
       "      <th>4</th>\n",
       "      <td>light weight laptop with new amazing features,...</td>\n",
       "      <td>3</td>\n",
       "      <td>0.534091</td>\n",
       "    </tr>\n",
       "  </tbody>\n",
       "</table>\n",
       "</div>"
      ],
      "text/plain": [
       "                                              Review  Rating  Sentiment_Score\n",
       "0  best under 60k great performancei got it for a...       3         0.438788\n",
       "1                                 good perfomence...       3         0.700000\n",
       "2  great performance but usually it has also that...       3         0.183333\n",
       "3              my wife is so happy and best product        3         0.900000\n",
       "4  light weight laptop with new amazing features,...       3         0.534091"
      ]
     },
     "execution_count": 81,
     "metadata": {},
     "output_type": "execute_result"
    }
   ],
   "source": [
    "flipk.head()"
   ]
  },
  {
   "cell_type": "code",
   "execution_count": null,
   "id": "26e90dff",
   "metadata": {},
   "outputs": [],
   "source": []
  },
  {
   "cell_type": "code",
   "execution_count": 82,
   "id": "738db882",
   "metadata": {},
   "outputs": [],
   "source": [
    "# Using another pre-trained model 'Vader':"
   ]
  },
  {
   "cell_type": "code",
   "execution_count": 83,
   "id": "3ebf73d0",
   "metadata": {},
   "outputs": [],
   "source": [
    "from nltk.sentiment.vader import SentimentIntensityAnalyzer"
   ]
  },
  {
   "cell_type": "code",
   "execution_count": 84,
   "id": "93012456",
   "metadata": {},
   "outputs": [],
   "source": [
    "senti = SentimentIntensityAnalyzer()"
   ]
  },
  {
   "cell_type": "code",
   "execution_count": 85,
   "id": "a5300905",
   "metadata": {},
   "outputs": [
    {
     "name": "stderr",
     "output_type": "stream",
     "text": [
      "C:\\Users\\revad\\AppData\\Local\\Temp\\ipykernel_21152\\2133877906.py:4: FutureWarning: Series.__getitem__ treating keys as positions is deprecated. In a future version, integer keys will always be treated as labels (consistent with DataFrame behavior). To access a value by position, use `ser.iloc[pos]`\n",
      "  sentim = senti.polarity_scores(flipk.iloc[i][0])\n"
     ]
    }
   ],
   "source": [
    "senti_score = []\n",
    "\n",
    "for i in range(0, flipk.shape[0]):\n",
    "    sentim = senti.polarity_scores(flipk.iloc[i][0])\n",
    "    score = sentim['compound']\n",
    "    senti_score.append(score)"
   ]
  },
  {
   "cell_type": "code",
   "execution_count": 86,
   "id": "0a2d1705",
   "metadata": {},
   "outputs": [
    {
     "data": {
      "text/plain": [
       "2304"
      ]
     },
     "execution_count": 86,
     "metadata": {},
     "output_type": "execute_result"
    }
   ],
   "source": [
    "len(senti_score)"
   ]
  },
  {
   "cell_type": "code",
   "execution_count": 87,
   "id": "c6e1561c",
   "metadata": {},
   "outputs": [],
   "source": [
    "flipk['Sentiment_Vader'] = senti_score"
   ]
  },
  {
   "cell_type": "code",
   "execution_count": 88,
   "id": "d10b7e0b",
   "metadata": {
    "scrolled": false
   },
   "outputs": [
    {
     "data": {
      "text/html": [
       "<div>\n",
       "<style scoped>\n",
       "    .dataframe tbody tr th:only-of-type {\n",
       "        vertical-align: middle;\n",
       "    }\n",
       "\n",
       "    .dataframe tbody tr th {\n",
       "        vertical-align: top;\n",
       "    }\n",
       "\n",
       "    .dataframe thead th {\n",
       "        text-align: right;\n",
       "    }\n",
       "</style>\n",
       "<table border=\"1\" class=\"dataframe\">\n",
       "  <thead>\n",
       "    <tr style=\"text-align: right;\">\n",
       "      <th></th>\n",
       "      <th>Review</th>\n",
       "      <th>Rating</th>\n",
       "      <th>Sentiment_Score</th>\n",
       "      <th>Sentiment_Vader</th>\n",
       "    </tr>\n",
       "  </thead>\n",
       "  <tbody>\n",
       "    <tr>\n",
       "      <th>0</th>\n",
       "      <td>best under 60k great performancei got it for a...</td>\n",
       "      <td>3</td>\n",
       "      <td>0.438788</td>\n",
       "      <td>0.9579</td>\n",
       "    </tr>\n",
       "    <tr>\n",
       "      <th>1</th>\n",
       "      <td>good perfomence...</td>\n",
       "      <td>3</td>\n",
       "      <td>0.700000</td>\n",
       "      <td>0.4404</td>\n",
       "    </tr>\n",
       "    <tr>\n",
       "      <th>2</th>\n",
       "      <td>great performance but usually it has also that...</td>\n",
       "      <td>3</td>\n",
       "      <td>0.183333</td>\n",
       "      <td>0.5789</td>\n",
       "    </tr>\n",
       "    <tr>\n",
       "      <th>3</th>\n",
       "      <td>my wife is so happy and best product</td>\n",
       "      <td>3</td>\n",
       "      <td>0.900000</td>\n",
       "      <td>0.8808</td>\n",
       "    </tr>\n",
       "    <tr>\n",
       "      <th>4</th>\n",
       "      <td>light weight laptop with new amazing features,...</td>\n",
       "      <td>3</td>\n",
       "      <td>0.534091</td>\n",
       "      <td>0.8360</td>\n",
       "    </tr>\n",
       "    <tr>\n",
       "      <th>5</th>\n",
       "      <td>amazing laptop, am so much happy, thanks for f...</td>\n",
       "      <td>3</td>\n",
       "      <td>0.533333</td>\n",
       "      <td>0.8988</td>\n",
       "    </tr>\n",
       "    <tr>\n",
       "      <th>6</th>\n",
       "      <td>over all a good laptop for personal use</td>\n",
       "      <td>3</td>\n",
       "      <td>0.350000</td>\n",
       "      <td>0.4404</td>\n",
       "    </tr>\n",
       "    <tr>\n",
       "      <th>7</th>\n",
       "      <td>thank you so much flipkart</td>\n",
       "      <td>2</td>\n",
       "      <td>0.200000</td>\n",
       "      <td>0.3612</td>\n",
       "    </tr>\n",
       "    <tr>\n",
       "      <th>8</th>\n",
       "      <td>amazing product</td>\n",
       "      <td>3</td>\n",
       "      <td>0.600000</td>\n",
       "      <td>0.5859</td>\n",
       "    </tr>\n",
       "    <tr>\n",
       "      <th>9</th>\n",
       "      <td>good for normal work , students, online classe...</td>\n",
       "      <td>2</td>\n",
       "      <td>0.516667</td>\n",
       "      <td>0.7003</td>\n",
       "    </tr>\n",
       "    <tr>\n",
       "      <th>10</th>\n",
       "      <td>laptop received was in good packaging and good...</td>\n",
       "      <td>3</td>\n",
       "      <td>0.337500</td>\n",
       "      <td>0.8957</td>\n",
       "    </tr>\n",
       "    <tr>\n",
       "      <th>11</th>\n",
       "      <td>very nice</td>\n",
       "      <td>3</td>\n",
       "      <td>0.780000</td>\n",
       "      <td>0.4754</td>\n",
       "    </tr>\n",
       "    <tr>\n",
       "      <th>12</th>\n",
       "      <td>good product but dilevary slow</td>\n",
       "      <td>2</td>\n",
       "      <td>0.200000</td>\n",
       "      <td>0.2382</td>\n",
       "    </tr>\n",
       "    <tr>\n",
       "      <th>13</th>\n",
       "      <td>if you can affort few thousands extra you can ...</td>\n",
       "      <td>1</td>\n",
       "      <td>0.050000</td>\n",
       "      <td>0.3514</td>\n",
       "    </tr>\n",
       "    <tr>\n",
       "      <th>14</th>\n",
       "      <td>good</td>\n",
       "      <td>3</td>\n",
       "      <td>0.700000</td>\n",
       "      <td>0.4404</td>\n",
       "    </tr>\n",
       "    <tr>\n",
       "      <th>15</th>\n",
       "      <td>all good but battery backup not good enough</td>\n",
       "      <td>2</td>\n",
       "      <td>0.116667</td>\n",
       "      <td>0.7003</td>\n",
       "    </tr>\n",
       "    <tr>\n",
       "      <th>16</th>\n",
       "      <td>i'll update this review again after a month us...</td>\n",
       "      <td>3</td>\n",
       "      <td>0.700000</td>\n",
       "      <td>0.2382</td>\n",
       "    </tr>\n",
       "    <tr>\n",
       "      <th>17</th>\n",
       "      <td>i love it ....</td>\n",
       "      <td>3</td>\n",
       "      <td>0.500000</td>\n",
       "      <td>0.6369</td>\n",
       "    </tr>\n",
       "    <tr>\n",
       "      <th>18</th>\n",
       "      <td>good</td>\n",
       "      <td>2</td>\n",
       "      <td>0.700000</td>\n",
       "      <td>0.4404</td>\n",
       "    </tr>\n",
       "    <tr>\n",
       "      <th>19</th>\n",
       "      <td>best laptop   in the segment. classy performan...</td>\n",
       "      <td>2</td>\n",
       "      <td>0.600000</td>\n",
       "      <td>0.8750</td>\n",
       "    </tr>\n",
       "  </tbody>\n",
       "</table>\n",
       "</div>"
      ],
      "text/plain": [
       "                                               Review  Rating  \\\n",
       "0   best under 60k great performancei got it for a...       3   \n",
       "1                                  good perfomence...       3   \n",
       "2   great performance but usually it has also that...       3   \n",
       "3               my wife is so happy and best product        3   \n",
       "4   light weight laptop with new amazing features,...       3   \n",
       "5   amazing laptop, am so much happy, thanks for f...       3   \n",
       "6             over all a good laptop for personal use       3   \n",
       "7                          thank you so much flipkart       2   \n",
       "8                                     amazing product       3   \n",
       "9   good for normal work , students, online classe...       2   \n",
       "10  laptop received was in good packaging and good...       3   \n",
       "11                                          very nice       3   \n",
       "12                     good product but dilevary slow       2   \n",
       "13  if you can affort few thousands extra you can ...       1   \n",
       "14                                               good       3   \n",
       "15        all good but battery backup not good enough       2   \n",
       "16  i'll update this review again after a month us...       3   \n",
       "17                                     i love it ....       3   \n",
       "18                                               good       2   \n",
       "19  best laptop   in the segment. classy performan...       2   \n",
       "\n",
       "    Sentiment_Score  Sentiment_Vader  \n",
       "0          0.438788           0.9579  \n",
       "1          0.700000           0.4404  \n",
       "2          0.183333           0.5789  \n",
       "3          0.900000           0.8808  \n",
       "4          0.534091           0.8360  \n",
       "5          0.533333           0.8988  \n",
       "6          0.350000           0.4404  \n",
       "7          0.200000           0.3612  \n",
       "8          0.600000           0.5859  \n",
       "9          0.516667           0.7003  \n",
       "10         0.337500           0.8957  \n",
       "11         0.780000           0.4754  \n",
       "12         0.200000           0.2382  \n",
       "13         0.050000           0.3514  \n",
       "14         0.700000           0.4404  \n",
       "15         0.116667           0.7003  \n",
       "16         0.700000           0.2382  \n",
       "17         0.500000           0.6369  \n",
       "18         0.700000           0.4404  \n",
       "19         0.600000           0.8750  "
      ]
     },
     "execution_count": 88,
     "metadata": {},
     "output_type": "execute_result"
    }
   ],
   "source": [
    "flipk.head(20)"
   ]
  },
  {
   "cell_type": "code",
   "execution_count": null,
   "id": "9ece0cbc",
   "metadata": {},
   "outputs": [],
   "source": []
  },
  {
   "cell_type": "code",
   "execution_count": 89,
   "id": "c6afb867",
   "metadata": {},
   "outputs": [],
   "source": [
    "# Positive & negative sentiments:"
   ]
  },
  {
   "cell_type": "code",
   "execution_count": 90,
   "id": "2544149a",
   "metadata": {},
   "outputs": [
    {
     "data": {
      "text/html": [
       "<div>\n",
       "<style scoped>\n",
       "    .dataframe tbody tr th:only-of-type {\n",
       "        vertical-align: middle;\n",
       "    }\n",
       "\n",
       "    .dataframe tbody tr th {\n",
       "        vertical-align: top;\n",
       "    }\n",
       "\n",
       "    .dataframe thead th {\n",
       "        text-align: right;\n",
       "    }\n",
       "</style>\n",
       "<table border=\"1\" class=\"dataframe\">\n",
       "  <thead>\n",
       "    <tr style=\"text-align: right;\">\n",
       "      <th></th>\n",
       "      <th>Review</th>\n",
       "      <th>Rating</th>\n",
       "      <th>Sentiment_Score</th>\n",
       "      <th>Sentiment_Vader</th>\n",
       "    </tr>\n",
       "  </thead>\n",
       "  <tbody>\n",
       "    <tr>\n",
       "      <th>0</th>\n",
       "      <td>best under 60k great performancei got it for a...</td>\n",
       "      <td>3</td>\n",
       "      <td>0.438788</td>\n",
       "      <td>0.9579</td>\n",
       "    </tr>\n",
       "    <tr>\n",
       "      <th>1</th>\n",
       "      <td>good perfomence...</td>\n",
       "      <td>3</td>\n",
       "      <td>0.700000</td>\n",
       "      <td>0.4404</td>\n",
       "    </tr>\n",
       "    <tr>\n",
       "      <th>2</th>\n",
       "      <td>great performance but usually it has also that...</td>\n",
       "      <td>3</td>\n",
       "      <td>0.183333</td>\n",
       "      <td>0.5789</td>\n",
       "    </tr>\n",
       "    <tr>\n",
       "      <th>3</th>\n",
       "      <td>my wife is so happy and best product</td>\n",
       "      <td>3</td>\n",
       "      <td>0.900000</td>\n",
       "      <td>0.8808</td>\n",
       "    </tr>\n",
       "    <tr>\n",
       "      <th>4</th>\n",
       "      <td>light weight laptop with new amazing features,...</td>\n",
       "      <td>3</td>\n",
       "      <td>0.534091</td>\n",
       "      <td>0.8360</td>\n",
       "    </tr>\n",
       "    <tr>\n",
       "      <th>...</th>\n",
       "      <td>...</td>\n",
       "      <td>...</td>\n",
       "      <td>...</td>\n",
       "      <td>...</td>\n",
       "    </tr>\n",
       "    <tr>\n",
       "      <th>2298</th>\n",
       "      <td>cool and best in below 9000 prize range ,go fo...</td>\n",
       "      <td>3</td>\n",
       "      <td>0.675000</td>\n",
       "      <td>0.8689</td>\n",
       "    </tr>\n",
       "    <tr>\n",
       "      <th>2299</th>\n",
       "      <td>great display, accurate colours at this price ...</td>\n",
       "      <td>3</td>\n",
       "      <td>0.600000</td>\n",
       "      <td>0.6249</td>\n",
       "    </tr>\n",
       "    <tr>\n",
       "      <th>2300</th>\n",
       "      <td>superb monitor first brought 1 used for 2 mont...</td>\n",
       "      <td>3</td>\n",
       "      <td>0.625000</td>\n",
       "      <td>0.6249</td>\n",
       "    </tr>\n",
       "    <tr>\n",
       "      <th>2301</th>\n",
       "      <td>awesome</td>\n",
       "      <td>3</td>\n",
       "      <td>1.000000</td>\n",
       "      <td>0.6249</td>\n",
       "    </tr>\n",
       "    <tr>\n",
       "      <th>2303</th>\n",
       "      <td>worth the money u spend for this monitor great...</td>\n",
       "      <td>3</td>\n",
       "      <td>0.550000</td>\n",
       "      <td>0.8519</td>\n",
       "    </tr>\n",
       "  </tbody>\n",
       "</table>\n",
       "<p>2037 rows × 4 columns</p>\n",
       "</div>"
      ],
      "text/plain": [
       "                                                 Review  Rating  \\\n",
       "0     best under 60k great performancei got it for a...       3   \n",
       "1                                    good perfomence...       3   \n",
       "2     great performance but usually it has also that...       3   \n",
       "3                 my wife is so happy and best product        3   \n",
       "4     light weight laptop with new amazing features,...       3   \n",
       "...                                                 ...     ...   \n",
       "2298  cool and best in below 9000 prize range ,go fo...       3   \n",
       "2299  great display, accurate colours at this price ...       3   \n",
       "2300  superb monitor first brought 1 used for 2 mont...       3   \n",
       "2301                                            awesome       3   \n",
       "2303  worth the money u spend for this monitor great...       3   \n",
       "\n",
       "      Sentiment_Score  Sentiment_Vader  \n",
       "0            0.438788           0.9579  \n",
       "1            0.700000           0.4404  \n",
       "2            0.183333           0.5789  \n",
       "3            0.900000           0.8808  \n",
       "4            0.534091           0.8360  \n",
       "...               ...              ...  \n",
       "2298         0.675000           0.8689  \n",
       "2299         0.600000           0.6249  \n",
       "2300         0.625000           0.6249  \n",
       "2301         1.000000           0.6249  \n",
       "2303         0.550000           0.8519  \n",
       "\n",
       "[2037 rows x 4 columns]"
      ]
     },
     "execution_count": 90,
     "metadata": {},
     "output_type": "execute_result"
    }
   ],
   "source": [
    "flipk[flipk['Sentiment_Score'] > 0]"
   ]
  },
  {
   "cell_type": "code",
   "execution_count": 91,
   "id": "808aece1",
   "metadata": {},
   "outputs": [
    {
     "data": {
      "text/html": [
       "<div>\n",
       "<style scoped>\n",
       "    .dataframe tbody tr th:only-of-type {\n",
       "        vertical-align: middle;\n",
       "    }\n",
       "\n",
       "    .dataframe tbody tr th {\n",
       "        vertical-align: top;\n",
       "    }\n",
       "\n",
       "    .dataframe thead th {\n",
       "        text-align: right;\n",
       "    }\n",
       "</style>\n",
       "<table border=\"1\" class=\"dataframe\">\n",
       "  <thead>\n",
       "    <tr style=\"text-align: right;\">\n",
       "      <th></th>\n",
       "      <th>Review</th>\n",
       "      <th>Rating</th>\n",
       "      <th>Sentiment_Score</th>\n",
       "      <th>Sentiment_Vader</th>\n",
       "    </tr>\n",
       "  </thead>\n",
       "  <tbody>\n",
       "    <tr>\n",
       "      <th>31</th>\n",
       "      <td>every thing is just fine but the tn display is...</td>\n",
       "      <td>3</td>\n",
       "      <td>-0.191667</td>\n",
       "      <td>-0.6527</td>\n",
       "    </tr>\n",
       "    <tr>\n",
       "      <th>39</th>\n",
       "      <td>display so bad quality and wifi connectivity i...</td>\n",
       "      <td>1</td>\n",
       "      <td>-0.500000</td>\n",
       "      <td>-0.8748</td>\n",
       "    </tr>\n",
       "    <tr>\n",
       "      <th>65</th>\n",
       "      <td>very bad experience</td>\n",
       "      <td>1</td>\n",
       "      <td>-0.910000</td>\n",
       "      <td>-0.5849</td>\n",
       "    </tr>\n",
       "    <tr>\n",
       "      <th>83</th>\n",
       "      <td>speakers are completely not working well.worst...</td>\n",
       "      <td>1</td>\n",
       "      <td>-0.025000</td>\n",
       "      <td>0.6124</td>\n",
       "    </tr>\n",
       "    <tr>\n",
       "      <th>132</th>\n",
       "      <td>giving this review after using for 7days:*slik...</td>\n",
       "      <td>2</td>\n",
       "      <td>-0.180804</td>\n",
       "      <td>0.1761</td>\n",
       "    </tr>\n",
       "    <tr>\n",
       "      <th>...</th>\n",
       "      <td>...</td>\n",
       "      <td>...</td>\n",
       "      <td>...</td>\n",
       "      <td>...</td>\n",
       "    </tr>\n",
       "    <tr>\n",
       "      <th>2174</th>\n",
       "      <td>i am very upset because monitor is coming with...</td>\n",
       "      <td>1</td>\n",
       "      <td>-0.290000</td>\n",
       "      <td>-0.7391</td>\n",
       "    </tr>\n",
       "    <tr>\n",
       "      <th>2175</th>\n",
       "      <td>1 year back my lenovo order not nice very bad ...</td>\n",
       "      <td>1</td>\n",
       "      <td>-0.403333</td>\n",
       "      <td>0.0944</td>\n",
       "    </tr>\n",
       "    <tr>\n",
       "      <th>2199</th>\n",
       "      <td>hdmi cable  very poor quality</td>\n",
       "      <td>1</td>\n",
       "      <td>-0.520000</td>\n",
       "      <td>-0.5256</td>\n",
       "    </tr>\n",
       "    <tr>\n",
       "      <th>2214</th>\n",
       "      <td>as expected from dell</td>\n",
       "      <td>3</td>\n",
       "      <td>-0.100000</td>\n",
       "      <td>0.0000</td>\n",
       "    </tr>\n",
       "    <tr>\n",
       "      <th>2284</th>\n",
       "      <td>pros - slim border line style. lightweight &amp; c...</td>\n",
       "      <td>2</td>\n",
       "      <td>-0.058333</td>\n",
       "      <td>0.7099</td>\n",
       "    </tr>\n",
       "  </tbody>\n",
       "</table>\n",
       "<p>182 rows × 4 columns</p>\n",
       "</div>"
      ],
      "text/plain": [
       "                                                 Review  Rating  \\\n",
       "31    every thing is just fine but the tn display is...       3   \n",
       "39    display so bad quality and wifi connectivity i...       1   \n",
       "65                                  very bad experience       1   \n",
       "83    speakers are completely not working well.worst...       1   \n",
       "132   giving this review after using for 7days:*slik...       2   \n",
       "...                                                 ...     ...   \n",
       "2174  i am very upset because monitor is coming with...       1   \n",
       "2175  1 year back my lenovo order not nice very bad ...       1   \n",
       "2199                      hdmi cable  very poor quality       1   \n",
       "2214                              as expected from dell       3   \n",
       "2284  pros - slim border line style. lightweight & c...       2   \n",
       "\n",
       "      Sentiment_Score  Sentiment_Vader  \n",
       "31          -0.191667          -0.6527  \n",
       "39          -0.500000          -0.8748  \n",
       "65          -0.910000          -0.5849  \n",
       "83          -0.025000           0.6124  \n",
       "132         -0.180804           0.1761  \n",
       "...               ...              ...  \n",
       "2174        -0.290000          -0.7391  \n",
       "2175        -0.403333           0.0944  \n",
       "2199        -0.520000          -0.5256  \n",
       "2214        -0.100000           0.0000  \n",
       "2284        -0.058333           0.7099  \n",
       "\n",
       "[182 rows x 4 columns]"
      ]
     },
     "execution_count": 91,
     "metadata": {},
     "output_type": "execute_result"
    }
   ],
   "source": [
    "flipk[flipk['Sentiment_Score'] < 0]"
   ]
  },
  {
   "cell_type": "code",
   "execution_count": null,
   "id": "d978f661",
   "metadata": {},
   "outputs": [],
   "source": []
  },
  {
   "cell_type": "code",
   "execution_count": 92,
   "id": "048c2a9b",
   "metadata": {},
   "outputs": [
    {
     "data": {
      "text/html": [
       "<div>\n",
       "<style scoped>\n",
       "    .dataframe tbody tr th:only-of-type {\n",
       "        vertical-align: middle;\n",
       "    }\n",
       "\n",
       "    .dataframe tbody tr th {\n",
       "        vertical-align: top;\n",
       "    }\n",
       "\n",
       "    .dataframe thead th {\n",
       "        text-align: right;\n",
       "    }\n",
       "</style>\n",
       "<table border=\"1\" class=\"dataframe\">\n",
       "  <thead>\n",
       "    <tr style=\"text-align: right;\">\n",
       "      <th></th>\n",
       "      <th>Review</th>\n",
       "      <th>Rating</th>\n",
       "      <th>Sentiment_Score</th>\n",
       "      <th>Sentiment_Vader</th>\n",
       "    </tr>\n",
       "  </thead>\n",
       "  <tbody>\n",
       "    <tr>\n",
       "      <th>0</th>\n",
       "      <td>best under 60k great performancei got it for a...</td>\n",
       "      <td>3</td>\n",
       "      <td>0.438788</td>\n",
       "      <td>0.9579</td>\n",
       "    </tr>\n",
       "    <tr>\n",
       "      <th>1</th>\n",
       "      <td>good perfomence...</td>\n",
       "      <td>3</td>\n",
       "      <td>0.700000</td>\n",
       "      <td>0.4404</td>\n",
       "    </tr>\n",
       "    <tr>\n",
       "      <th>2</th>\n",
       "      <td>great performance but usually it has also that...</td>\n",
       "      <td>3</td>\n",
       "      <td>0.183333</td>\n",
       "      <td>0.5789</td>\n",
       "    </tr>\n",
       "    <tr>\n",
       "      <th>3</th>\n",
       "      <td>my wife is so happy and best product</td>\n",
       "      <td>3</td>\n",
       "      <td>0.900000</td>\n",
       "      <td>0.8808</td>\n",
       "    </tr>\n",
       "    <tr>\n",
       "      <th>4</th>\n",
       "      <td>light weight laptop with new amazing features,...</td>\n",
       "      <td>3</td>\n",
       "      <td>0.534091</td>\n",
       "      <td>0.8360</td>\n",
       "    </tr>\n",
       "    <tr>\n",
       "      <th>...</th>\n",
       "      <td>...</td>\n",
       "      <td>...</td>\n",
       "      <td>...</td>\n",
       "      <td>...</td>\n",
       "    </tr>\n",
       "    <tr>\n",
       "      <th>2298</th>\n",
       "      <td>cool and best in below 9000 prize range ,go fo...</td>\n",
       "      <td>3</td>\n",
       "      <td>0.675000</td>\n",
       "      <td>0.8689</td>\n",
       "    </tr>\n",
       "    <tr>\n",
       "      <th>2299</th>\n",
       "      <td>great display, accurate colours at this price ...</td>\n",
       "      <td>3</td>\n",
       "      <td>0.600000</td>\n",
       "      <td>0.6249</td>\n",
       "    </tr>\n",
       "    <tr>\n",
       "      <th>2300</th>\n",
       "      <td>superb monitor first brought 1 used for 2 mont...</td>\n",
       "      <td>3</td>\n",
       "      <td>0.625000</td>\n",
       "      <td>0.6249</td>\n",
       "    </tr>\n",
       "    <tr>\n",
       "      <th>2301</th>\n",
       "      <td>awesome</td>\n",
       "      <td>3</td>\n",
       "      <td>1.000000</td>\n",
       "      <td>0.6249</td>\n",
       "    </tr>\n",
       "    <tr>\n",
       "      <th>2303</th>\n",
       "      <td>worth the money u spend for this monitor great...</td>\n",
       "      <td>3</td>\n",
       "      <td>0.550000</td>\n",
       "      <td>0.8519</td>\n",
       "    </tr>\n",
       "  </tbody>\n",
       "</table>\n",
       "<p>1980 rows × 4 columns</p>\n",
       "</div>"
      ],
      "text/plain": [
       "                                                 Review  Rating  \\\n",
       "0     best under 60k great performancei got it for a...       3   \n",
       "1                                    good perfomence...       3   \n",
       "2     great performance but usually it has also that...       3   \n",
       "3                 my wife is so happy and best product        3   \n",
       "4     light weight laptop with new amazing features,...       3   \n",
       "...                                                 ...     ...   \n",
       "2298  cool and best in below 9000 prize range ,go fo...       3   \n",
       "2299  great display, accurate colours at this price ...       3   \n",
       "2300  superb monitor first brought 1 used for 2 mont...       3   \n",
       "2301                                            awesome       3   \n",
       "2303  worth the money u spend for this monitor great...       3   \n",
       "\n",
       "      Sentiment_Score  Sentiment_Vader  \n",
       "0            0.438788           0.9579  \n",
       "1            0.700000           0.4404  \n",
       "2            0.183333           0.5789  \n",
       "3            0.900000           0.8808  \n",
       "4            0.534091           0.8360  \n",
       "...               ...              ...  \n",
       "2298         0.675000           0.8689  \n",
       "2299         0.600000           0.6249  \n",
       "2300         0.625000           0.6249  \n",
       "2301         1.000000           0.6249  \n",
       "2303         0.550000           0.8519  \n",
       "\n",
       "[1980 rows x 4 columns]"
      ]
     },
     "execution_count": 92,
     "metadata": {},
     "output_type": "execute_result"
    }
   ],
   "source": [
    "flipk[flipk.Sentiment_Vader > 0]"
   ]
  },
  {
   "cell_type": "code",
   "execution_count": 93,
   "id": "121534df",
   "metadata": {},
   "outputs": [
    {
     "data": {
      "text/html": [
       "<div>\n",
       "<style scoped>\n",
       "    .dataframe tbody tr th:only-of-type {\n",
       "        vertical-align: middle;\n",
       "    }\n",
       "\n",
       "    .dataframe tbody tr th {\n",
       "        vertical-align: top;\n",
       "    }\n",
       "\n",
       "    .dataframe thead th {\n",
       "        text-align: right;\n",
       "    }\n",
       "</style>\n",
       "<table border=\"1\" class=\"dataframe\">\n",
       "  <thead>\n",
       "    <tr style=\"text-align: right;\">\n",
       "      <th></th>\n",
       "      <th>Review</th>\n",
       "      <th>Rating</th>\n",
       "      <th>Sentiment_Score</th>\n",
       "      <th>Sentiment_Vader</th>\n",
       "    </tr>\n",
       "  </thead>\n",
       "  <tbody>\n",
       "    <tr>\n",
       "      <th>31</th>\n",
       "      <td>every thing is just fine but the tn display is...</td>\n",
       "      <td>3</td>\n",
       "      <td>-0.191667</td>\n",
       "      <td>-0.6527</td>\n",
       "    </tr>\n",
       "    <tr>\n",
       "      <th>38</th>\n",
       "      <td>nice product everything is okay but battery po...</td>\n",
       "      <td>2</td>\n",
       "      <td>0.025000</td>\n",
       "      <td>-0.0302</td>\n",
       "    </tr>\n",
       "    <tr>\n",
       "      <th>39</th>\n",
       "      <td>display so bad quality and wifi connectivity i...</td>\n",
       "      <td>1</td>\n",
       "      <td>-0.500000</td>\n",
       "      <td>-0.8748</td>\n",
       "    </tr>\n",
       "    <tr>\n",
       "      <th>50</th>\n",
       "      <td>read this if you're going to buy any laptopmy ...</td>\n",
       "      <td>2</td>\n",
       "      <td>0.350000</td>\n",
       "      <td>-0.3637</td>\n",
       "    </tr>\n",
       "    <tr>\n",
       "      <th>65</th>\n",
       "      <td>very bad experience</td>\n",
       "      <td>1</td>\n",
       "      <td>-0.910000</td>\n",
       "      <td>-0.5849</td>\n",
       "    </tr>\n",
       "    <tr>\n",
       "      <th>...</th>\n",
       "      <td>...</td>\n",
       "      <td>...</td>\n",
       "      <td>...</td>\n",
       "      <td>...</td>\n",
       "    </tr>\n",
       "    <tr>\n",
       "      <th>2174</th>\n",
       "      <td>i am very upset because monitor is coming with...</td>\n",
       "      <td>1</td>\n",
       "      <td>-0.290000</td>\n",
       "      <td>-0.7391</td>\n",
       "    </tr>\n",
       "    <tr>\n",
       "      <th>2176</th>\n",
       "      <td>my eyes started getting strain, kind of pain, ...</td>\n",
       "      <td>1</td>\n",
       "      <td>0.600000</td>\n",
       "      <td>-0.5423</td>\n",
       "    </tr>\n",
       "    <tr>\n",
       "      <th>2199</th>\n",
       "      <td>hdmi cable  very poor quality</td>\n",
       "      <td>1</td>\n",
       "      <td>-0.520000</td>\n",
       "      <td>-0.5256</td>\n",
       "    </tr>\n",
       "    <tr>\n",
       "      <th>2237</th>\n",
       "      <td>22mp68vq and 22mk600m both have same specifica...</td>\n",
       "      <td>3</td>\n",
       "      <td>0.180000</td>\n",
       "      <td>-0.3940</td>\n",
       "    </tr>\n",
       "    <tr>\n",
       "      <th>2297</th>\n",
       "      <td>the product from msi is good. but the service ...</td>\n",
       "      <td>1</td>\n",
       "      <td>0.128846</td>\n",
       "      <td>-0.0897</td>\n",
       "    </tr>\n",
       "  </tbody>\n",
       "</table>\n",
       "<p>233 rows × 4 columns</p>\n",
       "</div>"
      ],
      "text/plain": [
       "                                                 Review  Rating  \\\n",
       "31    every thing is just fine but the tn display is...       3   \n",
       "38    nice product everything is okay but battery po...       2   \n",
       "39    display so bad quality and wifi connectivity i...       1   \n",
       "50    read this if you're going to buy any laptopmy ...       2   \n",
       "65                                  very bad experience       1   \n",
       "...                                                 ...     ...   \n",
       "2174  i am very upset because monitor is coming with...       1   \n",
       "2176  my eyes started getting strain, kind of pain, ...       1   \n",
       "2199                      hdmi cable  very poor quality       1   \n",
       "2237  22mp68vq and 22mk600m both have same specifica...       3   \n",
       "2297  the product from msi is good. but the service ...       1   \n",
       "\n",
       "      Sentiment_Score  Sentiment_Vader  \n",
       "31          -0.191667          -0.6527  \n",
       "38           0.025000          -0.0302  \n",
       "39          -0.500000          -0.8748  \n",
       "50           0.350000          -0.3637  \n",
       "65          -0.910000          -0.5849  \n",
       "...               ...              ...  \n",
       "2174        -0.290000          -0.7391  \n",
       "2176         0.600000          -0.5423  \n",
       "2199        -0.520000          -0.5256  \n",
       "2237         0.180000          -0.3940  \n",
       "2297         0.128846          -0.0897  \n",
       "\n",
       "[233 rows x 4 columns]"
      ]
     },
     "execution_count": 93,
     "metadata": {},
     "output_type": "execute_result"
    }
   ],
   "source": [
    "flipk[flipk.Sentiment_Vader < 0]"
   ]
  },
  {
   "cell_type": "code",
   "execution_count": null,
   "id": "869768ee",
   "metadata": {},
   "outputs": [],
   "source": [
    "# details.."
   ]
  },
  {
   "cell_type": "code",
   "execution_count": 94,
   "id": "e672ab7f",
   "metadata": {},
   "outputs": [
    {
     "data": {
      "text/plain": [
       "count    2304.000000\n",
       "mean        0.413692\n",
       "std         0.336972\n",
       "min        -1.000000\n",
       "25%         0.248077\n",
       "50%         0.445833\n",
       "75%         0.625000\n",
       "max         1.000000\n",
       "Name: Sentiment_Score, dtype: float64"
      ]
     },
     "execution_count": 94,
     "metadata": {},
     "output_type": "execute_result"
    }
   ],
   "source": [
    "flipk['Sentiment_Score'].describe()"
   ]
  },
  {
   "cell_type": "code",
   "execution_count": 95,
   "id": "4e8fb9f2",
   "metadata": {
    "scrolled": true
   },
   "outputs": [
    {
     "data": {
      "text/plain": [
       "count    2304.000000\n",
       "mean        0.592566\n",
       "std         0.463146\n",
       "min        -0.966200\n",
       "25%         0.440400\n",
       "50%         0.792600\n",
       "75%         0.926825\n",
       "max         0.993400\n",
       "Name: Sentiment_Vader, dtype: float64"
      ]
     },
     "execution_count": 95,
     "metadata": {},
     "output_type": "execute_result"
    }
   ],
   "source": [
    "flipk['Sentiment_Vader'].describe()"
   ]
  },
  {
   "cell_type": "code",
   "execution_count": null,
   "id": "c67612c6",
   "metadata": {},
   "outputs": [],
   "source": []
  },
  {
   "cell_type": "code",
   "execution_count": 96,
   "id": "780007c3",
   "metadata": {},
   "outputs": [],
   "source": [
    "# Plotting the sentiment analysis on a graph:"
   ]
  },
  {
   "cell_type": "code",
   "execution_count": 97,
   "id": "edee60af",
   "metadata": {},
   "outputs": [
    {
     "data": {
      "image/png": "[encoded data removed]",
      "text/plain": [
       "<Figure size 640x480 with 1 Axes>"
      ]
     },
     "metadata": {},
     "output_type": "display_data"
    }
   ],
   "source": [
    "plt.plot(flipk.Sentiment_Score)\n",
    "plt.grid()"
   ]
  },
  {
   "cell_type": "code",
   "execution_count": 98,
   "id": "6d8a5990",
   "metadata": {},
   "outputs": [
    {
     "data": {
      "image/png": "[encoded data removed]",
      "text/plain": [
       "<Figure size 640x480 with 1 Axes>"
      ]
     },
     "metadata": {},
     "output_type": "display_data"
    }
   ],
   "source": [
    "plt.plot(flipk.Sentiment_Vader)\n",
    "plt.grid()"
   ]
  },
  {
   "cell_type": "code",
   "execution_count": null,
   "id": "dbc0a005",
   "metadata": {},
   "outputs": [],
   "source": []
  },
  {
   "cell_type": "code",
   "execution_count": 99,
   "id": "928e5495",
   "metadata": {},
   "outputs": [],
   "source": [
    "# High frequency words governing the analysis"
   ]
  },
  {
   "cell_type": "code",
   "execution_count": 100,
   "id": "7ac4ef68",
   "metadata": {},
   "outputs": [],
   "source": [
    "from wordcloud import WordCloud"
   ]
  },
  {
   "cell_type": "code",
   "execution_count": 107,
   "id": "8a1b02af",
   "metadata": {},
   "outputs": [],
   "source": [
    "cloud = WordCloud(stopwords = stopwords.words('english'), max_words=40, random_state=123).generate(str(flipk.Review))"
   ]
  },
  {
   "cell_type": "code",
   "execution_count": 108,
   "id": "fca96412",
   "metadata": {},
   "outputs": [
    {
     "data": {
      "text/plain": [
       "<matplotlib.image.AxesImage at 0x168a9e00100>"
      ]
     },
     "execution_count": 108,
     "metadata": {},
     "output_type": "execute_result"
    },
    {
     "data": {
      "image/png": "[encoded data removed]",
      "text/plain": [
       "<Figure size 640x480 with 1 Axes>"
      ]
     },
     "metadata": {},
     "output_type": "display_data"
    }
   ],
   "source": [
    "plt.imshow(cloud)"
   ]
  },
  {
   "cell_type": "markdown",
   "id": "2400880c",
   "metadata": {},
   "source": [
    "From the above analysis, it can be concluded that under the given dataset, there's a positive feedback for almost all electronic products sold on Flipkart."
   ]
  },
  {
   "cell_type": "code",
   "execution_count": null,
   "id": "557a0d24",
   "metadata": {},
   "outputs": [],
   "source": []
  }
 ],
 "metadata": {
  "kernelspec": {
   "display_name": "Python 3 (ipykernel)",
   "language": "python",
   "name": "python3"
  },
  "language_info": {
   "codemirror_mode": {
    "name": "ipython",
    "version": 3
   },
   "file_extension": ".py",
   "mimetype": "text/x-python",
   "name": "python",
   "nbconvert_exporter": "python",
   "pygments_lexer": "ipython3",
   "version": "3.10.12"
  }
 },
 "nbformat": 4,
 "nbformat_minor": 5
}
